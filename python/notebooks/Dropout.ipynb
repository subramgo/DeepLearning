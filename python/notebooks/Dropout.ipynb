{
 "cells": [
  {
   "cell_type": "markdown",
   "metadata": {},
   "source": [
    "## Dropout : A simple way to Prevent Neural Networks from Overfitting\n",
    "\n",
    "\n",
    "In this notebook, we experiment with dropouts on MNIST data set. The aim is recreate the experiment results given in section 6.1.1 in the paper https://www.cs.toronto.edu/~hinton/absps/JMLRdropout.pdf\n",
    "\n",
    "This section compares the neural networks with and without dropouts for MNIST dataset.\n",
    "\n",
    "MNIST dataset is available with Keras. It consists of 28 x 28 pixel handwritten digit images.\n"
   ]
  },
  {
   "cell_type": "code",
   "execution_count": 1,
   "metadata": {},
   "outputs": [
    {
     "name": "stderr",
     "output_type": "stream",
     "text": [
      "Using TensorFlow backend.\n"
     ]
    },
    {
     "name": "stdout",
     "output_type": "stream",
     "text": [
      "x_train shape (60000, 28, 28)\n",
      "y_train shape (60000,)\n",
      "x_test shape (10000, 28, 28)\n",
      "x_train shape (10000,)\n"
     ]
    }
   ],
   "source": [
    "from keras.datasets import mnist\n",
    "\n",
    "\n",
    "(x_train, y_train), (x_test, y_test) = mnist.load_data()\n",
    "\n",
    "print(\"x_train shape {}\".format(x_train.shape))\n",
    "print(\"y_train shape {}\".format(y_train.shape))\n",
    "print(\"x_test shape {}\".format(x_test.shape))\n",
    "print(\"x_train shape {}\".format(y_test.shape))\n",
    "\n"
   ]
  },
  {
   "cell_type": "code",
   "execution_count": 2,
   "metadata": {},
   "outputs": [
    {
     "data": {
      "image/png": "[encoded data removed]",
      "text/plain": [
       "<matplotlib.figure.Figure at 0x11f319fd0>"
      ]
     },
     "metadata": {},
     "output_type": "display_data"
    }
   ],
   "source": [
    "import matplotlib.pyplot as plt\n",
    "%matplotlib inline\n",
    "\n",
    "plt.subplot(221)\n",
    "plt.imshow(x_train[0], cmap = plt.get_cmap('gray'))\n",
    "plt.subplot(222)\n",
    "plt.imshow(x_train[10], cmap = plt.get_cmap('gray'))\n",
    "plt.subplot(223)\n",
    "plt.imshow(x_train[500], cmap = plt.get_cmap('gray'))\n",
    "plt.subplot(224)\n",
    "plt.imshow(x_train[1020], cmap = plt.get_cmap('gray'))\n",
    "plt.show()"
   ]
  },
  {
   "cell_type": "code",
   "execution_count": 3,
   "metadata": {},
   "outputs": [
    {
     "name": "stdout",
     "output_type": "stream",
     "text": [
      "train one hot shapec (60000, 10)\n"
     ]
    }
   ],
   "source": [
    "from keras.utils import np_utils\n",
    "\n",
    "## One hot encoder\n",
    "train_one_hot =  np_utils.to_categorical(y_train)\n",
    "test_one_hot  = np_utils.to_categorical(y_test)\n",
    "\n",
    "print(\"train one hot shapec {}\".format(train_one_hot.shape))"
   ]
  },
  {
   "cell_type": "code",
   "execution_count": 4,
   "metadata": {},
   "outputs": [
    {
     "data": {
      "text/plain": [
       "(28, 28)"
      ]
     },
     "execution_count": 4,
     "metadata": {},
     "output_type": "execute_result"
    }
   ],
   "source": [
    "input_dim = x_train.shape[1:]\n",
    "input_dim"
   ]
  },
  {
   "cell_type": "markdown",
   "metadata": {},
   "source": [
    "## Model 1 \n",
    "----\n",
    "28 x 28 --- Flatten --> 784 --Dense--> 1024, Relu --Dense--> 1024, Relu --softmax--> 10 \n",
    "\n",
    "\n",
    "batch_size = 256\n",
    "epochs = 25\n",
    "learning_rate = 0.01\n",
    "momentum = 0.0\n",
    "decay = 0.0\n",
    "\n"
   ]
  },
  {
   "cell_type": "code",
   "execution_count": null,
   "metadata": {},
   "outputs": [],
   "source": [
    "from keras import layers\n",
    "from keras.layers import Input, Dense, Activation, Flatten\n",
    "from keras.callbacks import History, EarlyStopping\n",
    "from keras.models import Model \n",
    "from keras import optimizers\n",
    "\n",
    "import numpy as np\n",
    "np.random.seed(123)\n",
    "\n",
    "\n",
    "batch_size = 256\n",
    "epochs = 100\n",
    "learning_rate = 0.01\n",
    "momentum = 0.0\n",
    "decay = 0.0\n",
    "early_stop_th = 10**-5\n",
    "\n",
    "\n",
    "# Stop the training if the accuracy is not moving more than a delta\n",
    "# keras.callbacks.History is by default added to all keras model\n",
    "callbacks = [EarlyStopping(monitor='acc', min_delta=early_stop_th, patience=5, verbose=0, mode='auto')]\n",
    "\n",
    "# Code up the network\n",
    "x_input = Input(input_dim)\n",
    "x = Flatten()(x_input)\n",
    "x = Dense(1024, activation='relu', name =\"dense1\")(x)\n",
    "x = Dense(1024, activation='relu', name = \"dense2\")(x)\n",
    "predictions = Dense(10, activation='softmax')(x)\n",
    "\n",
    "# Optimizer\n",
    "sgd = optimizers.SGD(lr=0.01, momentum=0, decay=0, nesterov=False)\n",
    "\n",
    "\n",
    "# Create and train model\n",
    "model = Model(inputs = x_input, outputs = predictions)\n",
    "model.compile(optimizer=sgd, loss='categorical_crossentropy', metrics=['accuracy'])\n",
    "hist = model.fit(x_train, train_one_hot, validation_split = 0.1, batch_size = batch_size,callbacks = callbacks ,epochs = epochs, verbose = 1)\n"
   ]
  },
  {
   "cell_type": "code",
   "execution_count": null,
   "metadata": {},
   "outputs": [],
   "source": [
    "hist.history.keys()"
   ]
  },
  {
   "cell_type": "code",
   "execution_count": null,
   "metadata": {},
   "outputs": [],
   "source": [
    "def plot_training(hist):\n",
    "\n",
    "    fig = plt.figure(figsize=(8,6))\n",
    "    plt.tight_layout()\n",
    "    plt.subplot(121)\n",
    "    plt.plot(hist.history['loss'])\n",
    "    plt.plot(hist.history['val_loss'])\n",
    "    plt.title(\"Train Loss and Validation Loss\")\n",
    "    plt.xlabel(\"epoch\")\n",
    "    plt.ylabel(\"loss\")\n",
    "    plt.legend(loc='upper left')\n",
    "    plt.subplot(122)\n",
    "    plt.plot(hist.history['acc'])\n",
    "    plt.plot(hist.history['val_acc'])\n",
    "    plt.title(\"Train Accuracy and Validation Accurcy\")\n",
    "    plt.xlabel(\"epoch\")\n",
    "    plt.ylabel(\"accuracy\")\n",
    "    plt.legend(loc='upper left')\n",
    "\n",
    "\n",
    "\n",
    "plot_training(hist)\n"
   ]
  },
  {
   "cell_type": "markdown",
   "metadata": {},
   "source": [
    "## Plot the model"
   ]
  },
  {
   "cell_type": "code",
   "execution_count": null,
   "metadata": {},
   "outputs": [],
   "source": [
    "from IPython.display import SVG\n",
    "from keras.utils.vis_utils import model_to_dot\n",
    "\n",
    "SVG(model_to_dot(model, show_shapes=True).create(prog='dot', format='svg'))\n",
    "\n",
    "\n"
   ]
  },
  {
   "cell_type": "code",
   "execution_count": null,
   "metadata": {},
   "outputs": [],
   "source": [
    "## Evaluate the model on train and test\n",
    "\n",
    "def print_metrics(model,x_train, train_one_hot, x_test, test_one_hot):\n",
    "    metrics = model.evaluate(x=x_train, y=train_one_hot, batch_size=batch_size, verbose=1, sample_weight=None, steps=None)\n",
    "    print(\"Train Evaluation\\n\")\n",
    "    for k,v in zip(model.metrics_names,metrics):\n",
    "        print (k,v)\n",
    "    print('error {}'.format(1-v))\n",
    "\n",
    "    print(\"\\nTest Evaluation\\n\")\n",
    "    metrics = model.evaluate(x=x_test, y=test_one_hot, batch_size=batch_size, verbose=1, sample_weight=None, steps=None)\n",
    "    for k,v in zip(model.metrics_names,metrics):\n",
    "        print (k,v)\n",
    "    print('error {}'.format(1-v))\n",
    "\n",
    "\n",
    "print_metrics(model,x_train, train_one_hot, x_test, test_one_hot)\n"
   ]
  },
  {
   "cell_type": "markdown",
   "metadata": {},
   "source": [
    "## Refer to ../scripts/folder for experiments\n",
    "\n",
    "Final hyper paramters from the experiments\n",
    "\n",
    "Best performing model chosen hyper-parameters:\n",
    "{'Dropout_1': 0.026079803111884514, 'Dropout': 0.4844455237320119}\n",
    "\n",
    "\n",
    "Best performing model chosen hyper-parameters:\n",
    "{'lr': 0.8713270582626444}\n",
    "\n",
    "\n",
    "{'momentum': 0.8671876498073315}\n",
    "\n",
    "\n",
    "Best performing model chosen hyper-parameters:\n",
    "{'max_norm': 2.886226647301249, 'max_norm_1': 1.0069271927587264}\n",
    "\n",
    "\n",
    "\n",
    "\n",
    "\n"
   ]
  },
  {
   "cell_type": "code",
   "execution_count": 5,
   "metadata": {},
   "outputs": [
    {
     "name": "stdout",
     "output_type": "stream",
     "text": [
      "Train on 54000 samples, validate on 6000 samples\n",
      "Epoch 1/50\n",
      "54000/54000 [==============================] - 10s 177us/step - loss: 0.6935 - acc: 0.8012 - val_loss: 0.2437 - val_acc: 0.9300\n",
      "Epoch 2/50\n",
      "54000/54000 [==============================] - 9s 169us/step - loss: 0.5075 - acc: 0.8505 - val_loss: 0.2676 - val_acc: 0.9308\n",
      "Epoch 3/50\n",
      "54000/54000 [==============================] - 9s 172us/step - loss: 0.4996 - acc: 0.8563 - val_loss: 0.3459 - val_acc: 0.8872\n",
      "Epoch 4/50\n",
      "54000/54000 [==============================] - 9s 170us/step - loss: 0.5081 - acc: 0.8537 - val_loss: 0.3486 - val_acc: 0.8992\n",
      "Epoch 5/50\n",
      "54000/54000 [==============================] - 10s 193us/step - loss: 0.6460 - acc: 0.8081 - val_loss: 0.4260 - val_acc: 0.8907\n",
      "Epoch 6/50\n",
      "54000/54000 [==============================] - 9s 176us/step - loss: 0.6477 - acc: 0.8062 - val_loss: 0.4814 - val_acc: 0.8610\n",
      "Epoch 7/50\n",
      "54000/54000 [==============================] - 9s 175us/step - loss: 0.6965 - acc: 0.7941 - val_loss: 0.5539 - val_acc: 0.8170\n",
      "Epoch 8/50\n",
      "54000/54000 [==============================] - 9s 173us/step - loss: 0.7925 - acc: 0.7636 - val_loss: 0.5750 - val_acc: 0.8612\n",
      "Accuracy 0.8367  Error 0.1633\n"
     ]
    }
   ],
   "source": [
    "from keras import layers\n",
    "from keras.layers import Input, Dense, Activation, Flatten, Dropout\n",
    "from keras.callbacks import History, EarlyStopping\n",
    "from keras.models import Model \n",
    "from keras import optimizers\n",
    "from keras.datasets import mnist\n",
    "from keras.utils import np_utils\n",
    "from hyperas.distributions import uniform\n",
    "from hyperas import optim\n",
    "from hyperopt import Trials, STATUS_OK, tpe\n",
    "from keras.constraints import max_norm\n",
    "\n",
    "\n",
    "import numpy as np\n",
    "np.random.seed(123)\n",
    "\n",
    "\n",
    "def mnist_data():\n",
    "    \"\"\"\n",
    "    Data providing function:\n",
    "\n",
    "    This function is separated from create_model() so that hyperopt\n",
    "    won't reload data for each evaluation run.\n",
    "    \"\"\"\n",
    "    (x_train, y_train), (x_test, y_test) = mnist.load_data()\n",
    "    x_train = x_train.reshape(60000, 784)\n",
    "    x_test = x_test.reshape(10000, 784)\n",
    "    x_train = x_train.astype('float32')\n",
    "    x_test = x_test.astype('float32')\n",
    "    x_train /= 255\n",
    "    x_test /= 255\n",
    "    nb_classes = 10\n",
    "    y_train = np_utils.to_categorical(y_train, nb_classes)\n",
    "    y_test = np_utils.to_categorical(y_test, nb_classes)\n",
    "    return x_train, y_train, x_test, y_test\n",
    "\n",
    "\n",
    "x_train, y_train, x_test, y_test = mnist_data()\n",
    "\n",
    "batch_size = 256\n",
    "epochs = 50\n",
    "learning_rate = 0.8713270582626444\n",
    "momentum = 0.8671876498073315\n",
    "decay = 0.0\n",
    "early_stop_th = 10**-10\n",
    "input_dim = (784,)\n",
    "\n",
    "dropout_1 = 0.026079803111884514\n",
    "dropout_2 = 0.4844455237320119\n",
    "\n",
    "mx_n1 = 2.88622664730124\n",
    "mx_n2 = 1.0069271927587264\n",
    "\n",
    "x_input = Input(input_dim)\n",
    "x = Dropout(dropout_1)(x_input)\n",
    "x = Dense(1024, activation='relu', name =\"dense1\",kernel_constraint=max_norm( mx_n1 ) )(x)\n",
    "x = Dropout(dropout_2)(x)\n",
    "x = Dense(1024, activation='relu', name = \"dense2\",kernel_constraint=max_norm( mx_n2 ) )(x)\n",
    "predictions = Dense(10, activation='softmax')(x)\n",
    "\n",
    "# Optimizer\n",
    "sgd = optimizers.SGD(lr=learning_rate, momentum=momentum, decay=0, nesterov=False)\n",
    "\n",
    "callbacks = [EarlyStopping(monitor='acc', min_delta=early_stop_th, patience=5, verbose=0, mode='auto')]\n",
    "\n",
    "\n",
    "# Create and train model\n",
    "model = Model(inputs = x_input, outputs = predictions)\n",
    "model.compile(optimizer=sgd, loss='categorical_crossentropy', metrics=['accuracy'])\n",
    "model.fit(x=x_train,y= y_train, validation_split = 0.1, callbacks = callbacks, batch_size = batch_size ,epochs = epochs, verbose = 1)\n",
    "metrics = model.evaluate(x=x_test, y=y_test, batch_size=batch_size, verbose=0, sample_weight=None, steps=None)\n",
    "\n",
    "\n",
    "accuracy = metrics[1]\n",
    "\n",
    "print(\"Accuracy {}  Error {}\".format(accuracy, 1-accuracy))\n"
   ]
  },
  {
   "cell_type": "code",
   "execution_count": null,
   "metadata": {},
   "outputs": [],
   "source": []
  }
 ],
 "metadata": {
  "kernelspec": {
   "display_name": "Python 3",
   "language": "python",
   "name": "python3"
  },
  "language_info": {
   "codemirror_mode": {
    "name": "ipython",
    "version": 3
   },
   "file_extension": ".py",
   "mimetype": "text/x-python",
   "name": "python",
   "nbconvert_exporter": "python",
   "pygments_lexer": "ipython3",
   "version": "3.5.1"
  }
 },
 "nbformat": 4,
 "nbformat_minor": 2
}
