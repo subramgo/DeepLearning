{
 "cells": [
  {
   "cell_type": "markdown",
   "metadata": {},
   "source": [
    "## Dropout : A simple way to Prevent Neural Networks from Overfitting\n",
    "\n",
    "\n",
    "In this notebook, we experiment with dropouts on MNIST data set. The aim is recreate the experiment results given in section 6.1.1 in the paper https://www.cs.toronto.edu/~hinton/absps/JMLRdropout.pdf\n",
    "\n",
    "This section compares the neural networks with and without dropouts for MNIST dataset.\n",
    "\n",
    "MNIST dataset is available with Keras. It consists of 28 x 28 pixel handwritten digit images.\n"
   ]
  },
  {
   "cell_type": "code",
   "execution_count": 6,
   "metadata": {},
   "outputs": [
    {
     "name": "stdout",
     "output_type": "stream",
     "text": [
      "x_train shape (60000, 28, 28)\n",
      "y_train shape (60000,)\n",
      "x_test shape (10000, 28, 28)\n",
      "x_train shape (10000,)\n"
     ]
    }
   ],
   "source": [
    "from keras.datasets import mnist\n",
    "\n",
    "\n",
    "(x_train, y_train), (x_test, y_test) = mnist.load_data()\n",
    "\n",
    "print(\"x_train shape {}\".format(x_train.shape))\n",
    "print(\"y_train shape {}\".format(y_train.shape))\n",
    "print(\"x_test shape {}\".format(x_test.shape))\n",
    "print(\"x_train shape {}\".format(y_test.shape))\n",
    "\n"
   ]
  },
  {
   "cell_type": "code",
   "execution_count": 7,
   "metadata": {},
   "outputs": [
    {
     "data": {
      "image/png": "[encoded data removed]",
      "text/plain": [
       "<matplotlib.figure.Figure at 0x11abbc978>"
      ]
     },
     "metadata": {},
     "output_type": "display_data"
    }
   ],
   "source": [
    "import matplotlib.pyplot as plt\n",
    "%matplotlib inline\n",
    "\n",
    "plt.subplot(221)\n",
    "plt.imshow(x_train[0], cmap = plt.get_cmap('gray'))\n",
    "plt.subplot(222)\n",
    "plt.imshow(x_train[10], cmap = plt.get_cmap('gray'))\n",
    "plt.subplot(223)\n",
    "plt.imshow(x_train[500], cmap = plt.get_cmap('gray'))\n",
    "plt.subplot(224)\n",
    "plt.imshow(x_train[1020], cmap = plt.get_cmap('gray'))\n",
    "plt.show()"
   ]
  },
  {
   "cell_type": "code",
   "execution_count": 8,
   "metadata": {},
   "outputs": [
    {
     "name": "stdout",
     "output_type": "stream",
     "text": [
      "train one hot shapec (60000, 10)\n"
     ]
    }
   ],
   "source": [
    "from keras.utils import np_utils\n",
    "\n",
    "## One hot encoder\n",
    "train_one_hot =  np_utils.to_categorical(y_train)\n",
    "test_one_hot  = np_utils.to_categorical(y_test)\n",
    "\n",
    "print(\"train one hot shapec {}\".format(train_one_hot.shape))"
   ]
  },
  {
   "cell_type": "code",
   "execution_count": 9,
   "metadata": {},
   "outputs": [
    {
     "data": {
      "text/plain": [
       "(28, 28)"
      ]
     },
     "execution_count": 9,
     "metadata": {},
     "output_type": "execute_result"
    }
   ],
   "source": [
    "input_dim = x_train.shape[1:]\n",
    "input_dim"
   ]
  },
  {
   "cell_type": "markdown",
   "metadata": {},
   "source": [
    "## Model 1 \n",
    "----\n",
    "28 x 28 --- Flatten --> 784 --Dense--> 1024, Relu --Dense--> 1024, Relu --softmax--> 10 \n",
    "\n",
    "\n",
    "batch_size = 256\n",
    "epochs = 25\n",
    "learning_rate = 0.01\n",
    "momentum = 0.0\n",
    "decay = 0.0\n",
    "\n"
   ]
  },
  {
   "cell_type": "code",
   "execution_count": 10,
   "metadata": {},
   "outputs": [
    {
     "name": "stdout",
     "output_type": "stream",
     "text": [
      "Train on 54000 samples, validate on 6000 samples\n",
      "Epoch 1/100\n",
      "54000/54000 [==============================] - 8s 148us/step - loss: 11.5741 - acc: 0.2810 - val_loss: 11.1994 - val_acc: 0.3052\n",
      "Epoch 2/100\n",
      "54000/54000 [==============================] - 8s 140us/step - loss: 11.3615 - acc: 0.2948 - val_loss: 11.1725 - val_acc: 0.3062\n",
      "Epoch 3/100\n",
      "54000/54000 [==============================] - 7s 137us/step - loss: 11.3340 - acc: 0.2966 - val_loss: 11.1378 - val_acc: 0.3088\n",
      "Epoch 4/100\n",
      "54000/54000 [==============================] - 7s 136us/step - loss: 11.3158 - acc: 0.2978 - val_loss: 11.1542 - val_acc: 0.3078\n",
      "Epoch 5/100\n",
      "54000/54000 [==============================] - 7s 137us/step - loss: 11.3027 - acc: 0.2986 - val_loss: 11.1738 - val_acc: 0.3067\n",
      "Epoch 6/100\n",
      "54000/54000 [==============================] - 8s 144us/step - loss: 11.3035 - acc: 0.2985 - val_loss: 11.1623 - val_acc: 0.3073\n",
      "Epoch 7/100\n",
      "54000/54000 [==============================] - 8s 146us/step - loss: 11.0754 - acc: 0.3124 - val_loss: 10.0425 - val_acc: 0.3760\n",
      "Epoch 8/100\n",
      "54000/54000 [==============================] - 9s 164us/step - loss: 10.0351 - acc: 0.3763 - val_loss: 9.7211 - val_acc: 0.3967\n",
      "Epoch 9/100\n",
      "54000/54000 [==============================] - 9s 175us/step - loss: 9.9020 - acc: 0.3850 - val_loss: 9.6484 - val_acc: 0.4012\n",
      "Epoch 10/100\n",
      "54000/54000 [==============================] - 10s 179us/step - loss: 9.6650 - acc: 0.3996 - val_loss: 8.3060 - val_acc: 0.4832\n",
      "Epoch 11/100\n",
      "54000/54000 [==============================] - 9s 164us/step - loss: 8.3963 - acc: 0.4782 - val_loss: 8.2481 - val_acc: 0.4870\n",
      "Epoch 12/100\n",
      "54000/54000 [==============================] - 9s 159us/step - loss: 7.9254 - acc: 0.5069 - val_loss: 7.2901 - val_acc: 0.5447\n",
      "Epoch 13/100\n",
      "54000/54000 [==============================] - 9s 160us/step - loss: 7.0283 - acc: 0.5621 - val_loss: 6.6416 - val_acc: 0.5867\n",
      "Epoch 14/100\n",
      "54000/54000 [==============================] - 9s 161us/step - loss: 6.8882 - acc: 0.5713 - val_loss: 6.6628 - val_acc: 0.5860\n",
      "Epoch 15/100\n",
      "54000/54000 [==============================] - 9s 159us/step - loss: 6.8285 - acc: 0.5753 - val_loss: 6.5617 - val_acc: 0.5923\n",
      "Epoch 16/100\n",
      "54000/54000 [==============================] - 9s 163us/step - loss: 6.7981 - acc: 0.5771 - val_loss: 6.6507 - val_acc: 0.5863\n",
      "Epoch 17/100\n",
      "54000/54000 [==============================] - 9s 162us/step - loss: 6.7631 - acc: 0.5793 - val_loss: 6.5652 - val_acc: 0.5920\n",
      "Epoch 18/100\n",
      "54000/54000 [==============================] - 9s 158us/step - loss: 6.7390 - acc: 0.5810 - val_loss: 6.5649 - val_acc: 0.5915\n",
      "Epoch 19/100\n",
      "54000/54000 [==============================] - 9s 158us/step - loss: 6.7408 - acc: 0.5810 - val_loss: 6.5178 - val_acc: 0.5947\n",
      "Epoch 20/100\n",
      "54000/54000 [==============================] - 9s 158us/step - loss: 6.7155 - acc: 0.5824 - val_loss: 6.5371 - val_acc: 0.5932\n",
      "Epoch 21/100\n",
      "54000/54000 [==============================] - 9s 159us/step - loss: 6.7243 - acc: 0.5817 - val_loss: 6.5250 - val_acc: 0.5937\n",
      "Epoch 22/100\n",
      "54000/54000 [==============================] - 9s 159us/step - loss: 6.6914 - acc: 0.5841 - val_loss: 6.5504 - val_acc: 0.5923\n",
      "Epoch 23/100\n",
      "54000/54000 [==============================] - 9s 159us/step - loss: 6.6834 - acc: 0.5846 - val_loss: 6.4738 - val_acc: 0.5978\n",
      "Epoch 24/100\n",
      "54000/54000 [==============================] - 9s 161us/step - loss: 6.6611 - acc: 0.5859 - val_loss: 6.6428 - val_acc: 0.5862\n",
      "Epoch 25/100\n",
      "54000/54000 [==============================] - 9s 160us/step - loss: 6.6527 - acc: 0.5865 - val_loss: 6.4749 - val_acc: 0.5980\n",
      "Epoch 26/100\n",
      "54000/54000 [==============================] - 9s 159us/step - loss: 6.6524 - acc: 0.5865 - val_loss: 6.5217 - val_acc: 0.5947\n",
      "Epoch 27/100\n",
      "54000/54000 [==============================] - 9s 161us/step - loss: 6.6431 - acc: 0.5871 - val_loss: 6.5144 - val_acc: 0.5947\n",
      "Epoch 28/100\n",
      "54000/54000 [==============================] - 9s 160us/step - loss: 6.6245 - acc: 0.5883 - val_loss: 6.4552 - val_acc: 0.5990\n",
      "Epoch 29/100\n",
      "54000/54000 [==============================] - 9s 160us/step - loss: 6.6071 - acc: 0.5895 - val_loss: 6.4622 - val_acc: 0.5988\n",
      "Epoch 30/100\n",
      "54000/54000 [==============================] - 9s 161us/step - loss: 6.6059 - acc: 0.5896 - val_loss: 6.4924 - val_acc: 0.5965\n",
      "Epoch 31/100\n",
      "54000/54000 [==============================] - 9s 159us/step - loss: 6.6131 - acc: 0.5890 - val_loss: 6.4760 - val_acc: 0.5975\n",
      "Epoch 32/100\n",
      "54000/54000 [==============================] - 9s 159us/step - loss: 6.5987 - acc: 0.5900 - val_loss: 6.4851 - val_acc: 0.5970\n",
      "Epoch 33/100\n",
      "54000/54000 [==============================] - 9s 159us/step - loss: 6.6052 - acc: 0.5896 - val_loss: 6.4410 - val_acc: 0.5995\n",
      "Epoch 34/100\n",
      "54000/54000 [==============================] - 9s 160us/step - loss: 6.6026 - acc: 0.5898 - val_loss: 6.4556 - val_acc: 0.5988\n",
      "Epoch 35/100\n",
      "54000/54000 [==============================] - 9s 160us/step - loss: 6.5799 - acc: 0.5913 - val_loss: 6.4527 - val_acc: 0.5987\n",
      "Epoch 36/100\n",
      "54000/54000 [==============================] - 9s 160us/step - loss: 6.5705 - acc: 0.5918 - val_loss: 6.4461 - val_acc: 0.5997\n",
      "Epoch 37/100\n",
      "54000/54000 [==============================] - 9s 160us/step - loss: 6.5774 - acc: 0.5914 - val_loss: 6.4819 - val_acc: 0.5972\n",
      "Epoch 38/100\n",
      "54000/54000 [==============================] - 8s 152us/step - loss: 6.5885 - acc: 0.5907 - val_loss: 6.4807 - val_acc: 0.5975\n",
      "Epoch 39/100\n",
      "54000/54000 [==============================] - 8s 139us/step - loss: 6.5659 - acc: 0.5921 - val_loss: 6.4426 - val_acc: 0.5998\n",
      "Epoch 40/100\n",
      "54000/54000 [==============================] - 8s 139us/step - loss: 6.5481 - acc: 0.5933 - val_loss: 6.4589 - val_acc: 0.5983\n",
      "Epoch 41/100\n",
      "54000/54000 [==============================] - 8s 140us/step - loss: 6.5563 - acc: 0.5927 - val_loss: 6.4475 - val_acc: 0.5990\n",
      "Epoch 42/100\n",
      "54000/54000 [==============================] - 8s 139us/step - loss: 6.5633 - acc: 0.5923 - val_loss: 6.4579 - val_acc: 0.5982\n",
      "Epoch 43/100\n",
      "54000/54000 [==============================] - 8s 139us/step - loss: 5.9639 - acc: 0.6290 - val_loss: 4.8953 - val_acc: 0.6950\n",
      "Epoch 44/100\n",
      "54000/54000 [==============================] - 8s 139us/step - loss: 5.1031 - acc: 0.6824 - val_loss: 4.8944 - val_acc: 0.6957\n",
      "Epoch 45/100\n",
      "54000/54000 [==============================] - 8s 139us/step - loss: 5.0653 - acc: 0.6847 - val_loss: 4.8867 - val_acc: 0.6960\n",
      "Epoch 46/100\n",
      "54000/54000 [==============================] - 8s 140us/step - loss: 5.0518 - acc: 0.6857 - val_loss: 4.8601 - val_acc: 0.6970\n",
      "Epoch 47/100\n",
      "54000/54000 [==============================] - 7s 139us/step - loss: 5.0394 - acc: 0.6865 - val_loss: 4.8773 - val_acc: 0.6963\n",
      "Epoch 48/100\n",
      "54000/54000 [==============================] - 467s 9ms/step - loss: 4.6394 - acc: 0.7099 - val_loss: 3.6921 - val_acc: 0.7678\n",
      "Epoch 49/100\n",
      "54000/54000 [==============================] - 8s 155us/step - loss: 3.7567 - acc: 0.7646 - val_loss: 3.5640 - val_acc: 0.7765\n",
      "Epoch 50/100\n",
      "54000/54000 [==============================] - 9s 160us/step - loss: 3.7431 - acc: 0.7658 - val_loss: 3.5377 - val_acc: 0.7780\n",
      "Epoch 51/100\n",
      "54000/54000 [==============================] - 9s 159us/step - loss: 3.6792 - acc: 0.7701 - val_loss: 3.5023 - val_acc: 0.7813\n",
      "Epoch 52/100\n",
      "54000/54000 [==============================] - 9s 158us/step - loss: 3.6805 - acc: 0.7700 - val_loss: 3.5189 - val_acc: 0.7795\n",
      "Epoch 53/100\n",
      "54000/54000 [==============================] - 9s 162us/step - loss: 3.6389 - acc: 0.7726 - val_loss: 3.4669 - val_acc: 0.7825\n",
      "Epoch 54/100\n",
      "54000/54000 [==============================] - 9s 167us/step - loss: 3.6171 - acc: 0.7743 - val_loss: 3.4642 - val_acc: 0.7828\n",
      "Epoch 55/100\n",
      "54000/54000 [==============================] - 9s 166us/step - loss: 1.9981 - acc: 0.8737 - val_loss: 1.8422 - val_acc: 0.8838\n",
      "Epoch 56/100\n",
      "54000/54000 [==============================] - 9s 168us/step - loss: 1.8485 - acc: 0.8836 - val_loss: 1.8354 - val_acc: 0.8850\n",
      "Epoch 57/100\n",
      "54000/54000 [==============================] - 10s 178us/step - loss: 1.8172 - acc: 0.8857 - val_loss: 1.8201 - val_acc: 0.8852\n",
      "Epoch 58/100\n",
      "54000/54000 [==============================] - 9s 174us/step - loss: 1.8041 - acc: 0.8867 - val_loss: 1.8112 - val_acc: 0.8845\n",
      "Epoch 59/100\n"
     ]
    },
    {
     "name": "stdout",
     "output_type": "stream",
     "text": [
      "54000/54000 [==============================] - 9s 172us/step - loss: 1.3715 - acc: 0.9122 - val_loss: 0.4726 - val_acc: 0.9657\n",
      "Epoch 60/100\n",
      "54000/54000 [==============================] - 9s 165us/step - loss: 0.4105 - acc: 0.9704 - val_loss: 0.4393 - val_acc: 0.9687\n",
      "Epoch 61/100\n",
      "54000/54000 [==============================] - 9s 161us/step - loss: 0.3223 - acc: 0.9769 - val_loss: 0.3990 - val_acc: 0.9722\n",
      "Epoch 62/100\n",
      "54000/54000 [==============================] - 9s 165us/step - loss: 0.2820 - acc: 0.9798 - val_loss: 0.3287 - val_acc: 0.9747\n",
      "Epoch 63/100\n",
      "54000/54000 [==============================] - 9s 166us/step - loss: 0.2588 - acc: 0.9810 - val_loss: 0.3942 - val_acc: 0.9710\n",
      "Epoch 64/100\n",
      "54000/54000 [==============================] - 9s 161us/step - loss: 0.2237 - acc: 0.9835 - val_loss: 0.3013 - val_acc: 0.9780\n",
      "Epoch 65/100\n",
      "54000/54000 [==============================] - 9s 166us/step - loss: 0.2017 - acc: 0.9851 - val_loss: 0.2920 - val_acc: 0.9790\n",
      "Epoch 66/100\n",
      "54000/54000 [==============================] - 9s 165us/step - loss: 0.1933 - acc: 0.9859 - val_loss: 0.2996 - val_acc: 0.9775\n",
      "Epoch 67/100\n",
      "54000/54000 [==============================] - 9s 166us/step - loss: 0.1719 - acc: 0.9874 - val_loss: 0.3068 - val_acc: 0.9765\n",
      "Epoch 68/100\n",
      "54000/54000 [==============================] - 9s 165us/step - loss: 0.1524 - acc: 0.9884 - val_loss: 0.3211 - val_acc: 0.9772\n",
      "Epoch 69/100\n",
      "54000/54000 [==============================] - 9s 165us/step - loss: 0.1377 - acc: 0.9899 - val_loss: 0.2638 - val_acc: 0.9802\n",
      "Epoch 70/100\n",
      "54000/54000 [==============================] - 9s 168us/step - loss: 0.1241 - acc: 0.9909 - val_loss: 0.2658 - val_acc: 0.9798\n",
      "Epoch 71/100\n",
      "54000/54000 [==============================] - 9s 159us/step - loss: 0.1159 - acc: 0.9914 - val_loss: 0.2466 - val_acc: 0.9817\n",
      "Epoch 72/100\n",
      "54000/54000 [==============================] - 9s 157us/step - loss: 0.1070 - acc: 0.9924 - val_loss: 0.2470 - val_acc: 0.9812\n",
      "Epoch 73/100\n",
      "54000/54000 [==============================] - 9s 161us/step - loss: 0.1009 - acc: 0.9926 - val_loss: 0.2360 - val_acc: 0.9817\n",
      "Epoch 74/100\n",
      "54000/54000 [==============================] - 9s 165us/step - loss: 0.0901 - acc: 0.9937 - val_loss: 0.2724 - val_acc: 0.9800\n",
      "Epoch 75/100\n",
      "54000/54000 [==============================] - 9s 167us/step - loss: 0.0863 - acc: 0.9938 - val_loss: 0.2730 - val_acc: 0.9800\n",
      "Epoch 76/100\n",
      "54000/54000 [==============================] - 9s 167us/step - loss: 0.0854 - acc: 0.9939 - val_loss: 0.2473 - val_acc: 0.9817\n",
      "Epoch 77/100\n",
      "54000/54000 [==============================] - 9s 162us/step - loss: 0.0831 - acc: 0.9942 - val_loss: 0.2353 - val_acc: 0.9817\n",
      "Epoch 78/100\n",
      "54000/54000 [==============================] - 9s 164us/step - loss: 0.0797 - acc: 0.9947 - val_loss: 0.2440 - val_acc: 0.9827\n",
      "Epoch 79/100\n",
      "54000/54000 [==============================] - 9s 168us/step - loss: 0.0789 - acc: 0.9946 - val_loss: 0.2355 - val_acc: 0.9820\n",
      "Epoch 80/100\n",
      "54000/54000 [==============================] - 9s 167us/step - loss: 0.0759 - acc: 0.9951 - val_loss: 0.2338 - val_acc: 0.9822\n",
      "Epoch 81/100\n",
      "54000/54000 [==============================] - 9s 169us/step - loss: 0.0737 - acc: 0.9950 - val_loss: 0.2380 - val_acc: 0.9817\n",
      "Epoch 82/100\n",
      "54000/54000 [==============================] - 9s 170us/step - loss: 0.0800 - acc: 0.9944 - val_loss: 0.2258 - val_acc: 0.9835\n",
      "Epoch 83/100\n",
      "54000/54000 [==============================] - 9s 163us/step - loss: 0.0738 - acc: 0.9949 - val_loss: 0.2420 - val_acc: 0.9817\n",
      "Epoch 84/100\n",
      "54000/54000 [==============================] - 9s 162us/step - loss: 0.0743 - acc: 0.9947 - val_loss: 0.2433 - val_acc: 0.9820\n",
      "Epoch 85/100\n",
      "54000/54000 [==============================] - 9s 161us/step - loss: 0.0672 - acc: 0.9956 - val_loss: 0.2428 - val_acc: 0.9810\n",
      "Epoch 86/100\n",
      "54000/54000 [==============================] - 9s 169us/step - loss: 0.0668 - acc: 0.9955 - val_loss: 0.2341 - val_acc: 0.9820\n",
      "Epoch 87/100\n",
      "54000/54000 [==============================] - 9s 164us/step - loss: 0.0679 - acc: 0.9953 - val_loss: 0.2524 - val_acc: 0.9807\n",
      "Epoch 88/100\n",
      "54000/54000 [==============================] - 9s 169us/step - loss: 0.0630 - acc: 0.9959 - val_loss: 0.2407 - val_acc: 0.9820\n",
      "Epoch 89/100\n",
      "54000/54000 [==============================] - 9s 166us/step - loss: 0.0621 - acc: 0.9960 - val_loss: 0.2357 - val_acc: 0.9818\n",
      "Epoch 90/100\n",
      "54000/54000 [==============================] - 9s 172us/step - loss: 0.0635 - acc: 0.9959 - val_loss: 0.2575 - val_acc: 0.9805\n",
      "Epoch 91/100\n",
      "54000/54000 [==============================] - 9s 161us/step - loss: 0.0625 - acc: 0.9961 - val_loss: 0.2722 - val_acc: 0.9805\n",
      "Epoch 92/100\n",
      "54000/54000 [==============================] - 9s 160us/step - loss: 0.0622 - acc: 0.9960 - val_loss: 0.2345 - val_acc: 0.9822\n",
      "Epoch 93/100\n",
      "54000/54000 [==============================] - 9s 162us/step - loss: 0.0598 - acc: 0.9962 - val_loss: 0.2418 - val_acc: 0.9817\n",
      "Epoch 94/100\n",
      "54000/54000 [==============================] - 10s 182us/step - loss: 0.0614 - acc: 0.9960 - val_loss: 0.2281 - val_acc: 0.9828\n",
      "Epoch 95/100\n",
      "54000/54000 [==============================] - 9s 168us/step - loss: 0.0596 - acc: 0.9962 - val_loss: 0.2236 - val_acc: 0.9830\n",
      "Epoch 96/100\n",
      "54000/54000 [==============================] - 9s 166us/step - loss: 0.0582 - acc: 0.9964 - val_loss: 0.2248 - val_acc: 0.9832\n",
      "Epoch 97/100\n",
      "54000/54000 [==============================] - 9s 173us/step - loss: 0.0582 - acc: 0.9964 - val_loss: 0.2247 - val_acc: 0.9832\n",
      "Epoch 98/100\n",
      "54000/54000 [==============================] - 9s 162us/step - loss: 0.0582 - acc: 0.9964 - val_loss: 0.2247 - val_acc: 0.9830\n",
      "Epoch 99/100\n",
      "54000/54000 [==============================] - 9s 174us/step - loss: 0.0582 - acc: 0.9964 - val_loss: 0.2246 - val_acc: 0.9830\n",
      "Epoch 100/100\n",
      "54000/54000 [==============================] - 9s 164us/step - loss: 0.0582 - acc: 0.9964 - val_loss: 0.2246 - val_acc: 0.9830\n"
     ]
    }
   ],
   "source": [
    "from keras import layers\n",
    "from keras.layers import Input, Dense, Activation, Flatten\n",
    "from keras.callbacks import History, EarlyStopping\n",
    "from keras.models import Model \n",
    "from keras import optimizers\n",
    "\n",
    "import numpy as np\n",
    "np.random.seed(123)\n",
    "\n",
    "\n",
    "batch_size = 256\n",
    "epochs = 100\n",
    "learning_rate = 0.01\n",
    "momentum = 0.0\n",
    "decay = 0.0\n",
    "early_stop_th = 10**-5\n",
    "\n",
    "\n",
    "# Stop the training if the accuracy is not moving more than a delta\n",
    "# keras.callbacks.History is by default added to all keras model\n",
    "callbacks = [EarlyStopping(monitor='acc', min_delta=early_stop_th, patience=5, verbose=0, mode='auto')]\n",
    "\n",
    "# Code up the network\n",
    "x_input = Input(input_dim)\n",
    "x = Flatten()(x_input)\n",
    "x = Dense(1024, activation='relu', name =\"dense1\")(x)\n",
    "x = Dense(1024, activation='relu', name = \"dense2\")(x)\n",
    "predictions = Dense(10, activation='softmax')(x)\n",
    "\n",
    "# Optimizer\n",
    "sgd = optimizers.SGD(lr=0.01, momentum=0, decay=0, nesterov=False)\n",
    "\n",
    "\n",
    "# Create and train model\n",
    "model = Model(inputs = x_input, outputs = predictions)\n",
    "model.compile(optimizer=sgd, loss='categorical_crossentropy', metrics=['accuracy'])\n",
    "hist = model.fit(x_train, train_one_hot, validation_split = 0.1, batch_size = batch_size,callbacks = callbacks ,epochs = epochs, verbose = 1)\n"
   ]
  },
  {
   "cell_type": "code",
   "execution_count": 30,
   "metadata": {},
   "outputs": [
    {
     "data": {
      "text/plain": [
       "dict_keys(['acc', 'val_acc', 'val_loss', 'loss'])"
      ]
     },
     "execution_count": 30,
     "metadata": {},
     "output_type": "execute_result"
    }
   ],
   "source": [
    "hist.history.keys()"
   ]
  },
  {
   "cell_type": "code",
   "execution_count": 13,
   "metadata": {},
   "outputs": [
    {
     "data": {
      "image/png": "[encoded data removed]",
      "text/plain": [
       "<matplotlib.figure.Figure at 0x11d8d3e80>"
      ]
     },
     "metadata": {},
     "output_type": "display_data"
    }
   ],
   "source": [
    "def plot_training(hist):\n",
    "\n",
    "    fig = plt.figure(figsize=(8,6))\n",
    "    plt.tight_layout()\n",
    "    plt.subplot(121)\n",
    "    plt.plot(hist.history['loss'])\n",
    "    plt.plot(hist.history['val_loss'])\n",
    "    plt.title(\"Train Loss and Validation Loss\")\n",
    "    plt.xlabel(\"epoch\")\n",
    "    plt.ylabel(\"loss\")\n",
    "    plt.legend(loc='upper left')\n",
    "    plt.subplot(122)\n",
    "    plt.plot(hist.history['acc'])\n",
    "    plt.plot(hist.history['val_acc'])\n",
    "    plt.title(\"Train Accuracy and Validation Accurcy\")\n",
    "    plt.xlabel(\"epoch\")\n",
    "    plt.ylabel(\"accuracy\")\n",
    "    plt.legend(loc='upper left')\n",
    "\n",
    "\n",
    "\n",
    "plot_training(hist)\n"
   ]
  },
  {
   "cell_type": "markdown",
   "metadata": {},
   "source": [
    "## Plot the model"
   ]
  },
  {
   "cell_type": "code",
   "execution_count": 26,
   "metadata": {},
   "outputs": [
    {
     "data": {
      "image/svg+xml": [
       "<svg height=\"377pt\" viewBox=\"0.00 0.00 289.68 377.00\" width=\"290pt\" xmlns=\"http://www.w3.org/2000/svg\" xmlns:xlink=\"http://www.w3.org/1999/xlink\">\n",
       "<g class=\"graph\" id=\"graph0\" transform=\"scale(1 1) rotate(0) translate(4 373)\">\n",
       "<title>G</title>\n",
       "<polygon fill=\"white\" points=\"-4,4 -4,-373 285.68,-373 285.68,4 -4,4\" stroke=\"none\"/>\n",
       "<!-- 4790110248 -->\n",
       "<g class=\"node\" id=\"node1\"><title>4790110248</title>\n",
       "<polygon fill=\"none\" points=\"0,-324.5 0,-368.5 281.68,-368.5 281.68,-324.5 0,-324.5\" stroke=\"black\"/>\n",
       "<text font-family=\"Times,serif\" font-size=\"14.00\" text-anchor=\"middle\" x=\"64.1812\" y=\"-342.3\">input_2: InputLayer</text>\n",
       "<polyline fill=\"none\" points=\"128.362,-324.5 128.362,-368.5 \" stroke=\"black\"/>\n",
       "<text font-family=\"Times,serif\" font-size=\"14.00\" text-anchor=\"middle\" x=\"156.197\" y=\"-353.3\">input:</text>\n",
       "<polyline fill=\"none\" points=\"128.362,-346.5 184.031,-346.5 \" stroke=\"black\"/>\n",
       "<text font-family=\"Times,serif\" font-size=\"14.00\" text-anchor=\"middle\" x=\"156.197\" y=\"-331.3\">output:</text>\n",
       "<polyline fill=\"none\" points=\"184.031,-324.5 184.031,-368.5 \" stroke=\"black\"/>\n",
       "<text font-family=\"Times,serif\" font-size=\"14.00\" text-anchor=\"middle\" x=\"232.855\" y=\"-353.3\">(None, 28, 28)</text>\n",
       "<polyline fill=\"none\" points=\"184.031,-346.5 281.68,-346.5 \" stroke=\"black\"/>\n",
       "<text font-family=\"Times,serif\" font-size=\"14.00\" text-anchor=\"middle\" x=\"232.855\" y=\"-331.3\">(None, 28, 28)</text>\n",
       "</g>\n",
       "<!-- 4743678048 -->\n",
       "<g class=\"node\" id=\"node2\"><title>4743678048</title>\n",
       "<polygon fill=\"none\" points=\"8.54834,-243.5 8.54834,-287.5 273.131,-287.5 273.131,-243.5 8.54834,-243.5\" stroke=\"black\"/>\n",
       "<text font-family=\"Times,serif\" font-size=\"14.00\" text-anchor=\"middle\" x=\"64.1812\" y=\"-261.3\">flatten_2: Flatten</text>\n",
       "<polyline fill=\"none\" points=\"119.814,-243.5 119.814,-287.5 \" stroke=\"black\"/>\n",
       "<text font-family=\"Times,serif\" font-size=\"14.00\" text-anchor=\"middle\" x=\"147.648\" y=\"-272.3\">input:</text>\n",
       "<polyline fill=\"none\" points=\"119.814,-265.5 175.483,-265.5 \" stroke=\"black\"/>\n",
       "<text font-family=\"Times,serif\" font-size=\"14.00\" text-anchor=\"middle\" x=\"147.648\" y=\"-250.3\">output:</text>\n",
       "<polyline fill=\"none\" points=\"175.483,-243.5 175.483,-287.5 \" stroke=\"black\"/>\n",
       "<text font-family=\"Times,serif\" font-size=\"14.00\" text-anchor=\"middle\" x=\"224.307\" y=\"-272.3\">(None, 28, 28)</text>\n",
       "<polyline fill=\"none\" points=\"175.483,-265.5 273.131,-265.5 \" stroke=\"black\"/>\n",
       "<text font-family=\"Times,serif\" font-size=\"14.00\" text-anchor=\"middle\" x=\"224.307\" y=\"-250.3\">(None, 784)</text>\n",
       "</g>\n",
       "<!-- 4790110248&#45;&gt;4743678048 -->\n",
       "<g class=\"edge\" id=\"edge1\"><title>4790110248-&gt;4743678048</title>\n",
       "<path d=\"M140.84,-324.329C140.84,-316.183 140.84,-306.699 140.84,-297.797\" fill=\"none\" stroke=\"black\"/>\n",
       "<polygon fill=\"black\" points=\"144.34,-297.729 140.84,-287.729 137.34,-297.729 144.34,-297.729\" stroke=\"black\"/>\n",
       "</g>\n",
       "<!-- 4743679784 -->\n",
       "<g class=\"node\" id=\"node3\"><title>4743679784</title>\n",
       "<polygon fill=\"none\" points=\"19.0552,-162.5 19.0552,-206.5 262.625,-206.5 262.625,-162.5 19.0552,-162.5\" stroke=\"black\"/>\n",
       "<text font-family=\"Times,serif\" font-size=\"14.00\" text-anchor=\"middle\" x=\"67.6812\" y=\"-180.3\">dense1: Dense</text>\n",
       "<polyline fill=\"none\" points=\"116.307,-162.5 116.307,-206.5 \" stroke=\"black\"/>\n",
       "<text font-family=\"Times,serif\" font-size=\"14.00\" text-anchor=\"middle\" x=\"144.142\" y=\"-191.3\">input:</text>\n",
       "<polyline fill=\"none\" points=\"116.307,-184.5 171.976,-184.5 \" stroke=\"black\"/>\n",
       "<text font-family=\"Times,serif\" font-size=\"14.00\" text-anchor=\"middle\" x=\"144.142\" y=\"-169.3\">output:</text>\n",
       "<polyline fill=\"none\" points=\"171.976,-162.5 171.976,-206.5 \" stroke=\"black\"/>\n",
       "<text font-family=\"Times,serif\" font-size=\"14.00\" text-anchor=\"middle\" x=\"217.3\" y=\"-191.3\">(None, 784)</text>\n",
       "<polyline fill=\"none\" points=\"171.976,-184.5 262.625,-184.5 \" stroke=\"black\"/>\n",
       "<text font-family=\"Times,serif\" font-size=\"14.00\" text-anchor=\"middle\" x=\"217.3\" y=\"-169.3\">(None, 1024)</text>\n",
       "</g>\n",
       "<!-- 4743678048&#45;&gt;4743679784 -->\n",
       "<g class=\"edge\" id=\"edge2\"><title>4743678048-&gt;4743679784</title>\n",
       "<path d=\"M140.84,-243.329C140.84,-235.183 140.84,-225.699 140.84,-216.797\" fill=\"none\" stroke=\"black\"/>\n",
       "<polygon fill=\"black\" points=\"144.34,-216.729 140.84,-206.729 137.34,-216.729 144.34,-216.729\" stroke=\"black\"/>\n",
       "</g>\n",
       "<!-- 4790222072 -->\n",
       "<g class=\"node\" id=\"node4\"><title>4790222072</title>\n",
       "<polygon fill=\"none\" points=\"19.0552,-81.5 19.0552,-125.5 262.625,-125.5 262.625,-81.5 19.0552,-81.5\" stroke=\"black\"/>\n",
       "<text font-family=\"Times,serif\" font-size=\"14.00\" text-anchor=\"middle\" x=\"67.6812\" y=\"-99.3\">dense2: Dense</text>\n",
       "<polyline fill=\"none\" points=\"116.307,-81.5 116.307,-125.5 \" stroke=\"black\"/>\n",
       "<text font-family=\"Times,serif\" font-size=\"14.00\" text-anchor=\"middle\" x=\"144.142\" y=\"-110.3\">input:</text>\n",
       "<polyline fill=\"none\" points=\"116.307,-103.5 171.976,-103.5 \" stroke=\"black\"/>\n",
       "<text font-family=\"Times,serif\" font-size=\"14.00\" text-anchor=\"middle\" x=\"144.142\" y=\"-88.3\">output:</text>\n",
       "<polyline fill=\"none\" points=\"171.976,-81.5 171.976,-125.5 \" stroke=\"black\"/>\n",
       "<text font-family=\"Times,serif\" font-size=\"14.00\" text-anchor=\"middle\" x=\"217.3\" y=\"-110.3\">(None, 1024)</text>\n",
       "<polyline fill=\"none\" points=\"171.976,-103.5 262.625,-103.5 \" stroke=\"black\"/>\n",
       "<text font-family=\"Times,serif\" font-size=\"14.00\" text-anchor=\"middle\" x=\"217.3\" y=\"-88.3\">(None, 1024)</text>\n",
       "</g>\n",
       "<!-- 4743679784&#45;&gt;4790222072 -->\n",
       "<g class=\"edge\" id=\"edge3\"><title>4743679784-&gt;4790222072</title>\n",
       "<path d=\"M140.84,-162.329C140.84,-154.183 140.84,-144.699 140.84,-135.797\" fill=\"none\" stroke=\"black\"/>\n",
       "<polygon fill=\"black\" points=\"144.34,-135.729 140.84,-125.729 137.34,-135.729 144.34,-135.729\" stroke=\"black\"/>\n",
       "</g>\n",
       "<!-- 4790835856 -->\n",
       "<g class=\"node\" id=\"node5\"><title>4790835856</title>\n",
       "<polygon fill=\"none\" points=\"15.5552,-0.5 15.5552,-44.5 266.125,-44.5 266.125,-0.5 15.5552,-0.5\" stroke=\"black\"/>\n",
       "<text font-family=\"Times,serif\" font-size=\"14.00\" text-anchor=\"middle\" x=\"67.6812\" y=\"-18.3\">dense_2: Dense</text>\n",
       "<polyline fill=\"none\" points=\"119.807,-0.5 119.807,-44.5 \" stroke=\"black\"/>\n",
       "<text font-family=\"Times,serif\" font-size=\"14.00\" text-anchor=\"middle\" x=\"147.642\" y=\"-29.3\">input:</text>\n",
       "<polyline fill=\"none\" points=\"119.807,-22.5 175.476,-22.5 \" stroke=\"black\"/>\n",
       "<text font-family=\"Times,serif\" font-size=\"14.00\" text-anchor=\"middle\" x=\"147.642\" y=\"-7.3\">output:</text>\n",
       "<polyline fill=\"none\" points=\"175.476,-0.5 175.476,-44.5 \" stroke=\"black\"/>\n",
       "<text font-family=\"Times,serif\" font-size=\"14.00\" text-anchor=\"middle\" x=\"220.8\" y=\"-29.3\">(None, 1024)</text>\n",
       "<polyline fill=\"none\" points=\"175.476,-22.5 266.125,-22.5 \" stroke=\"black\"/>\n",
       "<text font-family=\"Times,serif\" font-size=\"14.00\" text-anchor=\"middle\" x=\"220.8\" y=\"-7.3\">(None, 10)</text>\n",
       "</g>\n",
       "<!-- 4790222072&#45;&gt;4790835856 -->\n",
       "<g class=\"edge\" id=\"edge4\"><title>4790222072-&gt;4790835856</title>\n",
       "<path d=\"M140.84,-81.3294C140.84,-73.1826 140.84,-63.6991 140.84,-54.7971\" fill=\"none\" stroke=\"black\"/>\n",
       "<polygon fill=\"black\" points=\"144.34,-54.729 140.84,-44.729 137.34,-54.729 144.34,-54.729\" stroke=\"black\"/>\n",
       "</g>\n",
       "</g>\n",
       "</svg>"
      ],
      "text/plain": [
       "<IPython.core.display.SVG object>"
      ]
     },
     "execution_count": 26,
     "metadata": {},
     "output_type": "execute_result"
    }
   ],
   "source": [
    "from IPython.display import SVG\n",
    "from keras.utils.vis_utils import model_to_dot\n",
    "\n",
    "SVG(model_to_dot(model, show_shapes=True).create(prog='dot', format='svg'))\n",
    "\n",
    "\n"
   ]
  },
  {
   "cell_type": "code",
   "execution_count": 33,
   "metadata": {},
   "outputs": [
    {
     "name": "stdout",
     "output_type": "stream",
     "text": [
      "60000/60000 [==============================] - 4s 60us/step\n",
      "Train Evaluation\n",
      "\n",
      "loss 0.0748422057182\n",
      "acc 0.995050000032\n",
      "error 0.004949999968210883\n",
      "\n",
      "Test Evaluation\n",
      "\n",
      "10000/10000 [==============================] - 1s 50us/step\n",
      "loss 0.259364228643\n",
      "acc 0.9789\n",
      "error 0.021100000000000008\n"
     ]
    }
   ],
   "source": [
    "## Evaluate the model on train and test\n",
    "\n",
    "def print_metrics(model,x_train, train_one_hot, x_test, test_one_hot):\n",
    "    metrics = model.evaluate(x=x_train, y=train_one_hot, batch_size=batch_size, verbose=1, sample_weight=None, steps=None)\n",
    "    print(\"Train Evaluation\\n\")\n",
    "    for k,v in zip(model.metrics_names,metrics):\n",
    "        print (k,v)\n",
    "    print('error {}'.format(1-v))\n",
    "\n",
    "    print(\"\\nTest Evaluation\\n\")\n",
    "    metrics = model.evaluate(x=x_test, y=test_one_hot, batch_size=batch_size, verbose=1, sample_weight=None, steps=None)\n",
    "    for k,v in zip(model.metrics_names,metrics):\n",
    "        print (k,v)\n",
    "    print('error {}'.format(1-v))\n",
    "\n",
    "\n",
    "print_metrics(model,x_train, train_one_hot, x_test, test_one_hot)\n"
   ]
  },
  {
   "cell_type": "markdown",
   "metadata": {},
   "source": [
    "## Model 2 : With drop out enabled at input layer\n",
    "\n",
    "\n",
    "8 x 28 --- Flatten --> 784 --Dropout(0.1) --Dense--> 1024, Relu --Dense--> 1024, Relu --softmax--> 10\n",
    "batch_size = 256 epochs = 25 learning_rate = 0.01 momentum = 0.0 decay = 0.0"
   ]
  },
  {
   "cell_type": "code",
   "execution_count": 44,
   "metadata": {},
   "outputs": [
    {
     "name": "stdout",
     "output_type": "stream",
     "text": [
      "Train on 54000 samples, validate on 6000 samples\n",
      "Epoch 1/200\n",
      "54000/54000 [==============================] - 8s 149us/step - loss: 14.1472 - acc: 0.1221 - val_loss: 14.4257 - val_acc: 0.1050\n",
      "Epoch 2/200\n",
      "54000/54000 [==============================] - 8s 152us/step - loss: 14.2938 - acc: 0.1132 - val_loss: 14.4257 - val_acc: 0.1050\n",
      "Epoch 3/200\n",
      "54000/54000 [==============================] - 8s 155us/step - loss: 14.2938 - acc: 0.1132 - val_loss: 14.4257 - val_acc: 0.1050\n",
      "Epoch 4/200\n",
      "54000/54000 [==============================] - 8s 152us/step - loss: 14.2938 - acc: 0.1132 - val_loss: 14.4257 - val_acc: 0.1050\n",
      "Epoch 5/200\n",
      "54000/54000 [==============================] - 8s 147us/step - loss: 14.2938 - acc: 0.1132 - val_loss: 14.4257 - val_acc: 0.1050\n",
      "Epoch 6/200\n",
      "54000/54000 [==============================] - 8s 148us/step - loss: 14.2938 - acc: 0.1132 - val_loss: 14.4257 - val_acc: 0.1050\n"
     ]
    }
   ],
   "source": [
    "from keras.layers import Dropout\n",
    "\n",
    "\n",
    "batch_size = 256\n",
    "epochs = 200\n",
    "learning_rate = 0.09\n",
    "momentum = 0.0\n",
    "decay = 0.0\n",
    "early_stop_th = 10**-5\n",
    "\n",
    "# Code up the network\n",
    "x_input = Input(input_dim)\n",
    "x = Flatten()(x_input)\n",
    "x = Dropout(rate = 0.1)(x)\n",
    "x = Dense(1024, activation='relu', name =\"dense1\")(x)\n",
    "x = Dense(1024, activation='relu', name = \"dense2\")(x)\n",
    "predictions = Dense(10, activation='softmax')(x)\n",
    "\n",
    "\n",
    "# Stop the training if the accuracy is not moving more than a delta\n",
    "# keras.callbacks.History is by default added to all keras model\n",
    "callbacks = [EarlyStopping(monitor='acc', min_delta=early_stop_th, patience=5, verbose=0, mode='auto')]\n",
    "\n",
    "\n",
    "# Optimizer\n",
    "sgd = optimizers.SGD(lr=learning_rate, momentum=momentum, decay=decay, nesterov=False)\n",
    "\n",
    "\n",
    "# Create and train model\n",
    "model_1 = Model(inputs = x_input, outputs = predictions)\n",
    "model_1.compile(optimizer=sgd, loss='categorical_crossentropy', metrics=['accuracy'])\n",
    "hist_1 = model_1.fit(x_train, train_one_hot, validation_split = 0.1, batch_size = batch_size,callbacks = callbacks ,epochs = epochs, verbose = 1)\n",
    "\n"
   ]
  },
  {
   "cell_type": "code",
   "execution_count": 41,
   "metadata": {},
   "outputs": [
    {
     "data": {
      "image/png": "[encoded data removed]",
      "text/plain": [
       "<matplotlib.figure.Figure at 0x116e3b7f0>"
      ]
     },
     "metadata": {},
     "output_type": "display_data"
    }
   ],
   "source": [
    "plot_training(hist_1)"
   ]
  },
  {
   "cell_type": "code",
   "execution_count": 42,
   "metadata": {},
   "outputs": [
    {
     "data": {
      "image/svg+xml": [
       "<svg height=\"458pt\" viewBox=\"0.00 0.00 289.68 458.00\" width=\"290pt\" xmlns=\"http://www.w3.org/2000/svg\" xmlns:xlink=\"http://www.w3.org/1999/xlink\">\n",
       "<g class=\"graph\" id=\"graph0\" transform=\"scale(1 1) rotate(0) translate(4 454)\">\n",
       "<title>G</title>\n",
       "<polygon fill=\"white\" points=\"-4,4 -4,-454 285.68,-454 285.68,4 -4,4\" stroke=\"none\"/>\n",
       "<!-- 4678892848 -->\n",
       "<g class=\"node\" id=\"node1\"><title>4678892848</title>\n",
       "<polygon fill=\"none\" points=\"0,-405.5 0,-449.5 281.68,-449.5 281.68,-405.5 0,-405.5\" stroke=\"black\"/>\n",
       "<text font-family=\"Times,serif\" font-size=\"14.00\" text-anchor=\"middle\" x=\"64.1812\" y=\"-423.3\">input_5: InputLayer</text>\n",
       "<polyline fill=\"none\" points=\"128.362,-405.5 128.362,-449.5 \" stroke=\"black\"/>\n",
       "<text font-family=\"Times,serif\" font-size=\"14.00\" text-anchor=\"middle\" x=\"156.197\" y=\"-434.3\">input:</text>\n",
       "<polyline fill=\"none\" points=\"128.362,-427.5 184.031,-427.5 \" stroke=\"black\"/>\n",
       "<text font-family=\"Times,serif\" font-size=\"14.00\" text-anchor=\"middle\" x=\"156.197\" y=\"-412.3\">output:</text>\n",
       "<polyline fill=\"none\" points=\"184.031,-405.5 184.031,-449.5 \" stroke=\"black\"/>\n",
       "<text font-family=\"Times,serif\" font-size=\"14.00\" text-anchor=\"middle\" x=\"232.855\" y=\"-434.3\">(None, 28, 28)</text>\n",
       "<polyline fill=\"none\" points=\"184.031,-427.5 281.68,-427.5 \" stroke=\"black\"/>\n",
       "<text font-family=\"Times,serif\" font-size=\"14.00\" text-anchor=\"middle\" x=\"232.855\" y=\"-412.3\">(None, 28, 28)</text>\n",
       "</g>\n",
       "<!-- 4678891336 -->\n",
       "<g class=\"node\" id=\"node2\"><title>4678891336</title>\n",
       "<polygon fill=\"none\" points=\"8.54834,-324.5 8.54834,-368.5 273.131,-368.5 273.131,-324.5 8.54834,-324.5\" stroke=\"black\"/>\n",
       "<text font-family=\"Times,serif\" font-size=\"14.00\" text-anchor=\"middle\" x=\"64.1812\" y=\"-342.3\">flatten_5: Flatten</text>\n",
       "<polyline fill=\"none\" points=\"119.814,-324.5 119.814,-368.5 \" stroke=\"black\"/>\n",
       "<text font-family=\"Times,serif\" font-size=\"14.00\" text-anchor=\"middle\" x=\"147.648\" y=\"-353.3\">input:</text>\n",
       "<polyline fill=\"none\" points=\"119.814,-346.5 175.483,-346.5 \" stroke=\"black\"/>\n",
       "<text font-family=\"Times,serif\" font-size=\"14.00\" text-anchor=\"middle\" x=\"147.648\" y=\"-331.3\">output:</text>\n",
       "<polyline fill=\"none\" points=\"175.483,-324.5 175.483,-368.5 \" stroke=\"black\"/>\n",
       "<text font-family=\"Times,serif\" font-size=\"14.00\" text-anchor=\"middle\" x=\"224.307\" y=\"-353.3\">(None, 28, 28)</text>\n",
       "<polyline fill=\"none\" points=\"175.483,-346.5 273.131,-346.5 \" stroke=\"black\"/>\n",
       "<text font-family=\"Times,serif\" font-size=\"14.00\" text-anchor=\"middle\" x=\"224.307\" y=\"-331.3\">(None, 784)</text>\n",
       "</g>\n",
       "<!-- 4678892848&#45;&gt;4678891336 -->\n",
       "<g class=\"edge\" id=\"edge1\"><title>4678892848-&gt;4678891336</title>\n",
       "<path d=\"M140.84,-405.329C140.84,-397.183 140.84,-387.699 140.84,-378.797\" fill=\"none\" stroke=\"black\"/>\n",
       "<polygon fill=\"black\" points=\"144.34,-378.729 140.84,-368.729 137.34,-378.729 144.34,-378.729\" stroke=\"black\"/>\n",
       "</g>\n",
       "<!-- 4743298352 -->\n",
       "<g class=\"node\" id=\"node3\"><title>4743298352</title>\n",
       "<polygon fill=\"none\" points=\"7.37939,-243.5 7.37939,-287.5 274.3,-287.5 274.3,-243.5 7.37939,-243.5\" stroke=\"black\"/>\n",
       "<text font-family=\"Times,serif\" font-size=\"14.00\" text-anchor=\"middle\" x=\"71.1812\" y=\"-261.3\">dropout_3: Dropout</text>\n",
       "<polyline fill=\"none\" points=\"134.983,-243.5 134.983,-287.5 \" stroke=\"black\"/>\n",
       "<text font-family=\"Times,serif\" font-size=\"14.00\" text-anchor=\"middle\" x=\"162.817\" y=\"-272.3\">input:</text>\n",
       "<polyline fill=\"none\" points=\"134.983,-265.5 190.652,-265.5 \" stroke=\"black\"/>\n",
       "<text font-family=\"Times,serif\" font-size=\"14.00\" text-anchor=\"middle\" x=\"162.817\" y=\"-250.3\">output:</text>\n",
       "<polyline fill=\"none\" points=\"190.652,-243.5 190.652,-287.5 \" stroke=\"black\"/>\n",
       "<text font-family=\"Times,serif\" font-size=\"14.00\" text-anchor=\"middle\" x=\"232.476\" y=\"-272.3\">(None, 784)</text>\n",
       "<polyline fill=\"none\" points=\"190.652,-265.5 274.3,-265.5 \" stroke=\"black\"/>\n",
       "<text font-family=\"Times,serif\" font-size=\"14.00\" text-anchor=\"middle\" x=\"232.476\" y=\"-250.3\">(None, 784)</text>\n",
       "</g>\n",
       "<!-- 4678891336&#45;&gt;4743298352 -->\n",
       "<g class=\"edge\" id=\"edge2\"><title>4678891336-&gt;4743298352</title>\n",
       "<path d=\"M140.84,-324.329C140.84,-316.183 140.84,-306.699 140.84,-297.797\" fill=\"none\" stroke=\"black\"/>\n",
       "<polygon fill=\"black\" points=\"144.34,-297.729 140.84,-287.729 137.34,-297.729 144.34,-297.729\" stroke=\"black\"/>\n",
       "</g>\n",
       "<!-- 4442287016 -->\n",
       "<g class=\"node\" id=\"node4\"><title>4442287016</title>\n",
       "<polygon fill=\"none\" points=\"19.0552,-162.5 19.0552,-206.5 262.625,-206.5 262.625,-162.5 19.0552,-162.5\" stroke=\"black\"/>\n",
       "<text font-family=\"Times,serif\" font-size=\"14.00\" text-anchor=\"middle\" x=\"67.6812\" y=\"-180.3\">dense1: Dense</text>\n",
       "<polyline fill=\"none\" points=\"116.307,-162.5 116.307,-206.5 \" stroke=\"black\"/>\n",
       "<text font-family=\"Times,serif\" font-size=\"14.00\" text-anchor=\"middle\" x=\"144.142\" y=\"-191.3\">input:</text>\n",
       "<polyline fill=\"none\" points=\"116.307,-184.5 171.976,-184.5 \" stroke=\"black\"/>\n",
       "<text font-family=\"Times,serif\" font-size=\"14.00\" text-anchor=\"middle\" x=\"144.142\" y=\"-169.3\">output:</text>\n",
       "<polyline fill=\"none\" points=\"171.976,-162.5 171.976,-206.5 \" stroke=\"black\"/>\n",
       "<text font-family=\"Times,serif\" font-size=\"14.00\" text-anchor=\"middle\" x=\"217.3\" y=\"-191.3\">(None, 784)</text>\n",
       "<polyline fill=\"none\" points=\"171.976,-184.5 262.625,-184.5 \" stroke=\"black\"/>\n",
       "<text font-family=\"Times,serif\" font-size=\"14.00\" text-anchor=\"middle\" x=\"217.3\" y=\"-169.3\">(None, 1024)</text>\n",
       "</g>\n",
       "<!-- 4743298352&#45;&gt;4442287016 -->\n",
       "<g class=\"edge\" id=\"edge3\"><title>4743298352-&gt;4442287016</title>\n",
       "<path d=\"M140.84,-243.329C140.84,-235.183 140.84,-225.699 140.84,-216.797\" fill=\"none\" stroke=\"black\"/>\n",
       "<polygon fill=\"black\" points=\"144.34,-216.729 140.84,-206.729 137.34,-216.729 144.34,-216.729\" stroke=\"black\"/>\n",
       "</g>\n",
       "<!-- 4683507528 -->\n",
       "<g class=\"node\" id=\"node5\"><title>4683507528</title>\n",
       "<polygon fill=\"none\" points=\"19.0552,-81.5 19.0552,-125.5 262.625,-125.5 262.625,-81.5 19.0552,-81.5\" stroke=\"black\"/>\n",
       "<text font-family=\"Times,serif\" font-size=\"14.00\" text-anchor=\"middle\" x=\"67.6812\" y=\"-99.3\">dense2: Dense</text>\n",
       "<polyline fill=\"none\" points=\"116.307,-81.5 116.307,-125.5 \" stroke=\"black\"/>\n",
       "<text font-family=\"Times,serif\" font-size=\"14.00\" text-anchor=\"middle\" x=\"144.142\" y=\"-110.3\">input:</text>\n",
       "<polyline fill=\"none\" points=\"116.307,-103.5 171.976,-103.5 \" stroke=\"black\"/>\n",
       "<text font-family=\"Times,serif\" font-size=\"14.00\" text-anchor=\"middle\" x=\"144.142\" y=\"-88.3\">output:</text>\n",
       "<polyline fill=\"none\" points=\"171.976,-81.5 171.976,-125.5 \" stroke=\"black\"/>\n",
       "<text font-family=\"Times,serif\" font-size=\"14.00\" text-anchor=\"middle\" x=\"217.3\" y=\"-110.3\">(None, 1024)</text>\n",
       "<polyline fill=\"none\" points=\"171.976,-103.5 262.625,-103.5 \" stroke=\"black\"/>\n",
       "<text font-family=\"Times,serif\" font-size=\"14.00\" text-anchor=\"middle\" x=\"217.3\" y=\"-88.3\">(None, 1024)</text>\n",
       "</g>\n",
       "<!-- 4442287016&#45;&gt;4683507528 -->\n",
       "<g class=\"edge\" id=\"edge4\"><title>4442287016-&gt;4683507528</title>\n",
       "<path d=\"M140.84,-162.329C140.84,-154.183 140.84,-144.699 140.84,-135.797\" fill=\"none\" stroke=\"black\"/>\n",
       "<polygon fill=\"black\" points=\"144.34,-135.729 140.84,-125.729 137.34,-135.729 144.34,-135.729\" stroke=\"black\"/>\n",
       "</g>\n",
       "<!-- 4683507584 -->\n",
       "<g class=\"node\" id=\"node6\"><title>4683507584</title>\n",
       "<polygon fill=\"none\" points=\"15.5552,-0.5 15.5552,-44.5 266.125,-44.5 266.125,-0.5 15.5552,-0.5\" stroke=\"black\"/>\n",
       "<text font-family=\"Times,serif\" font-size=\"14.00\" text-anchor=\"middle\" x=\"67.6812\" y=\"-18.3\">dense_5: Dense</text>\n",
       "<polyline fill=\"none\" points=\"119.807,-0.5 119.807,-44.5 \" stroke=\"black\"/>\n",
       "<text font-family=\"Times,serif\" font-size=\"14.00\" text-anchor=\"middle\" x=\"147.642\" y=\"-29.3\">input:</text>\n",
       "<polyline fill=\"none\" points=\"119.807,-22.5 175.476,-22.5 \" stroke=\"black\"/>\n",
       "<text font-family=\"Times,serif\" font-size=\"14.00\" text-anchor=\"middle\" x=\"147.642\" y=\"-7.3\">output:</text>\n",
       "<polyline fill=\"none\" points=\"175.476,-0.5 175.476,-44.5 \" stroke=\"black\"/>\n",
       "<text font-family=\"Times,serif\" font-size=\"14.00\" text-anchor=\"middle\" x=\"220.8\" y=\"-29.3\">(None, 1024)</text>\n",
       "<polyline fill=\"none\" points=\"175.476,-22.5 266.125,-22.5 \" stroke=\"black\"/>\n",
       "<text font-family=\"Times,serif\" font-size=\"14.00\" text-anchor=\"middle\" x=\"220.8\" y=\"-7.3\">(None, 10)</text>\n",
       "</g>\n",
       "<!-- 4683507528&#45;&gt;4683507584 -->\n",
       "<g class=\"edge\" id=\"edge5\"><title>4683507528-&gt;4683507584</title>\n",
       "<path d=\"M140.84,-81.3294C140.84,-73.1826 140.84,-63.6991 140.84,-54.7971\" fill=\"none\" stroke=\"black\"/>\n",
       "<polygon fill=\"black\" points=\"144.34,-54.729 140.84,-44.729 137.34,-54.729 144.34,-54.729\" stroke=\"black\"/>\n",
       "</g>\n",
       "</g>\n",
       "</svg>"
      ],
      "text/plain": [
       "<IPython.core.display.SVG object>"
      ]
     },
     "execution_count": 42,
     "metadata": {},
     "output_type": "execute_result"
    }
   ],
   "source": [
    "SVG(model_to_dot(model_1, show_shapes=True).create(prog='dot', format='svg'))\n",
    "\n"
   ]
  },
  {
   "cell_type": "code",
   "execution_count": 45,
   "metadata": {},
   "outputs": [
    {
     "name": "stdout",
     "output_type": "stream",
     "text": [
      "60000/60000 [==============================] - 3s 51us/step\n",
      "Train Evaluation\n",
      "\n",
      "loss 14.3069645879\n",
      "acc 0.112366666667\n",
      "error 0.8876333333333333\n",
      "\n",
      "Test Evaluation\n",
      "\n",
      "10000/10000 [==============================] - 1s 50us/step\n",
      "loss 14.288697316\n",
      "acc 0.1135\n",
      "error 0.8865\n"
     ]
    }
   ],
   "source": [
    "print_metrics(model_1,x_train, train_one_hot, x_test, test_one_hot)\n",
    "\n"
   ]
  },
  {
   "cell_type": "markdown",
   "metadata": {},
   "source": [
    "## Trail notes\n",
    "\n",
    "*100 Epochs, Learning Rate = 0.01, Train accuracy, 0.68, Test accuracy = 0.68\n",
    "*123 Epochs, Learning Rate = 0.01, Train accuracy, 0.79, Test accuracy = 0.79\n",
    "*6 Epochs, Learning Rate = 0.09, Train accuracy, 0.1, Test accuracy = 0.1\n",
    "\n",
    "\n"
   ]
  },
  {
   "cell_type": "markdown",
   "metadata": {},
   "source": [
    "## Model 3 : With drop out enabled at input layer and hidden layers and max norm regularization\n",
    "\n",
    "\n",
    "28 x 28 --- Flatten --> 784 --Dropout(0.1) --Dense--> 1024, Relu --> Dropout(0.4) --Dense--> 1024, Relu --softmax--> 10\n",
    "\n",
    "\n",
    "batch_size = 256 epochs = 25 learning_rate = 0.05 momentum = 0.995 decay = 0.0"
   ]
  },
  {
   "cell_type": "code",
   "execution_count": null,
   "metadata": {},
   "outputs": [
    {
     "name": "stdout",
     "output_type": "stream",
     "text": [
      "Train on 54000 samples, validate on 6000 samples\n",
      "Epoch 1/200\n",
      "54000/54000 [==============================] - 8s 147us/step - loss: 14.2938 - acc: 0.1132 - val_loss: 14.4257 - val_acc: 0.1050\n",
      "Epoch 2/200\n",
      "54000/54000 [==============================] - 8s 144us/step - loss: 14.2938 - acc: 0.1132 - val_loss: 14.4257 - val_acc: 0.1050\n",
      "Epoch 3/200\n",
      "54000/54000 [==============================] - 8s 142us/step - loss: 14.2938 - acc: 0.1132 - val_loss: 14.4257 - val_acc: 0.1050\n",
      "Epoch 4/200\n",
      "54000/54000 [==============================] - 8s 143us/step - loss: 14.2938 - acc: 0.1132 - val_loss: 14.4257 - val_acc: 0.1050\n",
      "Epoch 5/200\n",
      "54000/54000 [==============================] - 8s 142us/step - loss: 14.2938 - acc: 0.1132 - val_loss: 14.4257 - val_acc: 0.1050\n",
      "Epoch 6/200\n",
      "14592/54000 [=======>......................] - ETA: 5s - loss: 14.3187 - acc: 0.1116"
     ]
    }
   ],
   "source": [
    "from keras.constraints import max_norm\n",
    "\n",
    "\n",
    "\n",
    "batch_size = 256\n",
    "epochs = 200\n",
    "learning_rate = 0.01\n",
    "momentum = 0.995\n",
    "decay = 0.0\n",
    "early_stop_th = 10**-5\n",
    "max_norm_c = 1.0\n",
    "\n",
    "\n",
    "\n",
    "# Code up the network\n",
    "x_input = Input(input_dim)\n",
    "x = Flatten()(x_input)\n",
    "x = Dropout(rate = 0.1)(x)\n",
    "x = Dense(1024, activation='relu', name =\"dense1\", kernel_constraint = max_norm(max_norm_c))(x)\n",
    "x = Dropout(rate = 0.4)(x)\n",
    "x = Dense(1024, activation='relu', name = \"dense2\",kernel_constraint = max_norm(max_norm_c))(x)\n",
    "predictions = Dense(10, activation='softmax')(x)\n",
    "\n",
    "\n",
    "# Stop the training if the accuracy is not moving more than a delta\n",
    "# keras.callbacks.History is by default added to all keras model\n",
    "callbacks = [EarlyStopping(monitor='acc', min_delta=early_stop_th, patience=5, verbose=0, mode='auto')]\n",
    "\n",
    "\n",
    "# Optimizer\n",
    "sgd = optimizers.SGD(lr=learning_rate, momentum=momentum, decay=decay, nesterov=False)\n",
    "\n",
    "\n",
    "# Create and train model\n",
    "model_2 = Model(inputs = x_input, outputs = predictions)\n",
    "model_2.compile(optimizer=sgd, loss='categorical_crossentropy', metrics=['accuracy'])\n",
    "hist_2 = model_1.fit(x_train, train_one_hot, validation_split = 0.1, batch_size = batch_size,callbacks = callbacks ,epochs = epochs, verbose = 1)\n",
    "\n",
    "\n"
   ]
  },
  {
   "cell_type": "code",
   "execution_count": null,
   "metadata": {},
   "outputs": [],
   "source": []
  }
 ],
 "metadata": {
  "kernelspec": {
   "display_name": "Python 3",
   "language": "python",
   "name": "python3"
  },
  "language_info": {
   "codemirror_mode": {
    "name": "ipython",
    "version": 3
   },
   "file_extension": ".py",
   "mimetype": "text/x-python",
   "name": "python",
   "nbconvert_exporter": "python",
   "pygments_lexer": "ipython3",
   "version": "3.5.1"
  }
 },
 "nbformat": 4,
 "nbformat_minor": 2
}
