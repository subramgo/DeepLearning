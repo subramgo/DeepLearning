{
 "cells": [
  {
   "cell_type": "markdown",
   "metadata": {},
   "source": [
    "# Saving and Loading image files into HDF5 file\n",
    "\n",
    "The data was downloaded from https://www.kaggle.com/c/cifar-10/data\n",
    "Stored in a relative path '../data' to this notebook.\n",
    "\n",
    "The CIFAR-10 data consists of 60,000 32x32 color images in 10 classes, with 6000 images per class.\n",
    "The train folder contains, 50,000 images\n",
    "The test folder contains, 10,000 images\n"
   ]
  },
  {
   "cell_type": "code",
   "execution_count": null,
   "metadata": {},
   "outputs": [],
   "source": [
    "import glob\n",
    "import pandas as pd\n",
    "import os\n",
    "\n",
    "\n",
    "image_path  = '../data/cifar-10/'\n",
    "image_files = '*.png'\n",
    "labels_file = 'trainLabels.csv'\n",
    "\n",
    "\n",
    "# Read the image paths and labels\n",
    "images  = glob.glob(image_path + 'train/' + image_files)\n",
    "labels  = pd.read_csv(image_path + labels_file)\n",
    "\n",
    "# Match the labels for image paths\n",
    "labels_sorted = [labels[labels['id'] == int(os.path.splitext(os.path.basename(img))[0])]['label'].values[0] for img in images]\n",
    "\n"
   ]
  },
  {
   "cell_type": "code",
   "execution_count": null,
   "metadata": {},
   "outputs": [],
   "source": [
    "print(\"No of images in train folder {}\".format(len(images)))"
   ]
  },
  {
   "cell_type": "code",
   "execution_count": null,
   "metadata": {},
   "outputs": [],
   "source": [
    "import pandas as pd\n",
    "\n",
    "# Code label string to integers\n",
    "labels_coded = pd.get_dummies(labels_sorted)\n",
    "labels_coded = labels_coded.values.argmax(1)"
   ]
  },
  {
   "cell_type": "code",
   "execution_count": null,
   "metadata": {},
   "outputs": [],
   "source": [
    "from random import shuffle\n",
    "\n",
    "## Shuffle the data set\n",
    "sh = list(zip(images, labels_coded))\n",
    "shuffle(sh)\n",
    "imgs, lbls = zip(*sh)\n",
    "\n",
    "## Create train data set\n",
    "train_size = 0.95\n",
    "train_images = imgs[0:int(train_size * len(imgs))]\n",
    "train_labels = lbls[0:int(train_size * len(lbls))]\n",
    "\n",
    "## create test data set\n",
    "test_images = imgs[int(train_size * len(imgs)):]\n",
    "test_labels = lbls[int(train_size * len(lbls)):]\n",
    "\n",
    "\n",
    "\n"
   ]
  },
  {
   "cell_type": "code",
   "execution_count": null,
   "metadata": {},
   "outputs": [],
   "source": [
    "print(\"Our training set size {}\".format(len(train_images)))\n",
    "print(\"Our test set size {}\".format(len(test_images)))\n",
    "\n",
    "\n"
   ]
  },
  {
   "cell_type": "markdown",
   "metadata": {},
   "source": [
    "# Create HDF5 file"
   ]
  },
  {
   "cell_type": "code",
   "execution_count": null,
   "metadata": {},
   "outputs": [],
   "source": [
    "import numpy as np\n",
    "import h5py\n",
    "\n",
    "# Image width x height is 32 x 32, with 3 channels\n",
    "train_shape = (len(train_images), 32, 32, 3)\n",
    "test_shape  = (len(test_images), 32, 32, 3)\n",
    "\n",
    "\n",
    "hdf5_path = '../data/cifar-10/hdf5/cifar_10.h5'\n",
    "\n",
    "# Open a hdf5 file and create earray\n",
    "hdf5_file = h5py.File(hdf5_path, mode = 'w')\n",
    "\n",
    "hdf5_file.create_dataset(\"train_images\", train_shape, np.int8)\n",
    "hdf5_file.create_dataset(\"test_images\", test_shape, np.int8)\n",
    "\n",
    "\n",
    "hdf5_file.create_dataset(\"train_mean\", train_shape[1:], np.float32)\n",
    "\n",
    "hdf5_file.create_dataset(\"train_labels\", (len(train_labels),), np.int8)\n",
    "hdf5_file[\"train_labels\"][...] = train_labels\n",
    "hdf5_file.create_dataset(\"test_labels\", (len(test_labels),), np.int8)\n",
    "hdf5_file[\"test_labels\"][...] = test_labels\n",
    "\n",
    "\n",
    "\n",
    "\n"
   ]
  },
  {
   "cell_type": "markdown",
   "metadata": {},
   "source": [
    "## Load and save the images"
   ]
  },
  {
   "cell_type": "code",
   "execution_count": null,
   "metadata": {},
   "outputs": [],
   "source": [
    "import cv2\n",
    "mean = np.zeros(train_shape[1:], np.float32)\n",
    "\n",
    "## Load train image\n",
    "for i in range(len(train_images)):\n",
    "    if i % 1000 == 0 and i > 0:\n",
    "        print(\"Train data {}/{}\".format(i, len(train_images)))\n",
    "    \n",
    "    path = train_images[i]\n",
    "    image = cv2.imread(path)\n",
    "    hdf5_file[\"train_images\"][i, ...] = image[None]\n",
    "    mean += image / float(len(train_labels))\n",
    "\n",
    "## Load test image\n",
    "for i in range(len(test_images)):\n",
    "    if i % 1000 == 0 and i > 0:\n",
    "        print(\"Test data {}/{}\".format(i, len(test_images)))\n",
    "    \n",
    "    path = train_images[i]\n",
    "    image = cv2.imread(path)\n",
    "    hdf5_file[\"test_images\"][i, ...] = image[None]\n",
    "\n",
    "\n",
    "    \n",
    "\n",
    "\n"
   ]
  },
  {
   "cell_type": "code",
   "execution_count": null,
   "metadata": {},
   "outputs": [],
   "source": [
    "hdf5_file[\"train_mean\"][...] = mean\n",
    "hdf5_file.close()"
   ]
  },
  {
   "cell_type": "markdown",
   "metadata": {},
   "source": [
    "## Access HDF5 File in Batches\n",
    "\n",
    "  * TODO: How to connect this as source for `keras.preprocessing.image.ImageDataGenerator` ?"
   ]
  },
  {
   "cell_type": "code",
   "execution_count": 1,
   "metadata": {},
   "outputs": [
    {
     "name": "stdout",
     "output_type": "stream",
     "text": [
      "Opened input file ../../data/Adience/hdf5/adience.h5\n"
     ]
    }
   ],
   "source": [
    "import numpy as np\n",
    "import h5py\n",
    "import matplotlib.pyplot as plt\n",
    "import random\n",
    "import os,sys\n",
    "\n",
    "hdf5_path = '../../data/Adience/hdf5/adience.h5'\n",
    "hdf5_file = h5py.File(hdf5_path, mode = 'r')\n",
    "\n",
    "if not os.path.exists(hdf5_path):\n",
    "    print(\"File {} doesn't exist.\".format(hdf5_path))\n",
    "    sys.exit(1)\n",
    "    \n",
    "print(\"Opened input file {}\".format(hdf5_path))\n"
   ]
  },
  {
   "cell_type": "code",
   "execution_count": 2,
   "metadata": {},
   "outputs": [],
   "source": [
    "data_batch_size = 64\n",
    "\n",
    "def batch_generator(data,labels,batch_size = 64):\n",
    "    idx=0\n",
    "    try:\n",
    "        while data[idx:idx+batch_size]:\n",
    "            idx+=batch_size\n",
    "            yield (data[idx-batch_size:idx],data[idx-batch_size:idx])\n",
    "    except:\n",
    "        # return final batch, smaller than `batch_size`\n",
    "        idx+=batch_size\n",
    "        yield data[idx-batch_size:],data[idx-batch_size:]\n",
    "        \n",
    "train_gen = batch_generator(hdf5_file['train_images'],hdf5_file['train_labels'],data_batch_size)"
   ]
  },
  {
   "cell_type": "markdown",
   "metadata": {},
   "source": [
    "## Access HDF5 File for Processing\n",
    " * Using Adience data\n",
    " * Feed into a `keras.preprocessing.image.ImageDataGenerator`"
   ]
  },
  {
   "cell_type": "code",
   "execution_count": 3,
   "metadata": {},
   "outputs": [],
   "source": [
    "import h5py\n",
    "hdf5_path = '../data/Adience/hdf5/adience.h5'"
   ]
  },
  {
   "cell_type": "code",
   "execution_count": 4,
   "metadata": {},
   "outputs": [],
   "source": [
    "f = h5py.File(hdf5_path, \"r\")\n",
    "\n",
    "## This is an awkward way to access the groups & data sets from an h5py file. Is there a more \"proper\" way?\n",
    "train_images,train_labels,train_mean = f.items()\n",
    "train_images = train_images[1]\n",
    "train_labels = train_labels[1]\n",
    "train_mean   = train_mean[1]"
   ]
  },
  {
   "cell_type": "code",
   "execution_count": 5,
   "metadata": {},
   "outputs": [
    {
     "data": {
      "text/plain": [
       "<HDF5 dataset \"train_images\": shape (16228, 256, 256, 3), type \"|i1\">"
      ]
     },
     "execution_count": 5,
     "metadata": {},
     "output_type": "execute_result"
    }
   ],
   "source": [
    "train_images"
   ]
  },
  {
   "cell_type": "code",
   "execution_count": 6,
   "metadata": {},
   "outputs": [
    {
     "data": {
      "text/plain": [
       "array([[4, 1],\n",
       "       [4, 0],\n",
       "       [4, 1],\n",
       "       [4, 0],\n",
       "       [4, 0]], dtype=int8)"
      ]
     },
     "execution_count": 6,
     "metadata": {},
     "output_type": "execute_result"
    }
   ],
   "source": [
    "train_labels[0:5]"
   ]
  },
  {
   "cell_type": "code",
   "execution_count": 7,
   "metadata": {},
   "outputs": [
    {
     "name": "stderr",
     "output_type": "stream",
     "text": [
      "Using TensorFlow backend.\n"
     ]
    }
   ],
   "source": [
    "from keras.preprocessing.image import ImageDataGenerator"
   ]
  },
  {
   "cell_type": "code",
   "execution_count": 8,
   "metadata": {},
   "outputs": [],
   "source": [
    "generator = ImageDataGenerator( featurewise_center=False,\n",
    "                                samplewise_center=True,\n",
    "                                featurewise_std_normalization=False,\n",
    "                                samplewise_std_normalization=False,\n",
    "                                zca_whitening=False,\n",
    "                                zca_epsilon=1e-6,\n",
    "                                rotation_range=0.,\n",
    "                                width_shift_range=0.,\n",
    "                                height_shift_range=0.,\n",
    "                                shear_range=0.,\n",
    "                                zoom_range=0.,\n",
    "                                channel_shift_range=0.,\n",
    "                                fill_mode='nearest',\n",
    "                                cval=0.,\n",
    "                                horizontal_flip=False,\n",
    "                                vertical_flip=False,\n",
    "                                rescale=None,\n",
    "                                preprocessing_function=None,\n",
    "                                data_format=\"channels_last\")"
   ]
  },
  {
   "cell_type": "code",
   "execution_count": 9,
   "metadata": {},
   "outputs": [],
   "source": [
    "## Not useful?!\n",
    "generator.fit(train_images[:50])    # test first 50"
   ]
  },
  {
   "cell_type": "code",
   "execution_count": 10,
   "metadata": {},
   "outputs": [],
   "source": [
    "_gen = generator.flow(train_images[:50],train_labels[:50]) # test first 50"
   ]
  },
  {
   "cell_type": "code",
   "execution_count": 11,
   "metadata": {},
   "outputs": [
    {
     "data": {
      "text/plain": [
       "array([[[[-102.69339752, -102.69339752, -102.69339752],\n",
       "         [-102.69339752, -102.69339752, -102.69339752],\n",
       "         [-102.69339752, -102.69339752, -102.69339752],\n",
       "         ..., \n",
       "         [-102.69339752, -102.69339752, -102.69339752],\n",
       "         [-102.69339752, -102.69339752, -102.69339752],\n",
       "         [-102.69339752, -102.69339752, -102.69339752]],\n",
       "\n",
       "        [[-102.69339752, -102.69339752, -102.69339752],\n",
       "         [-102.69339752, -102.69339752, -102.69339752],\n",
       "         [-102.69339752, -102.69339752, -102.69339752],\n",
       "         ..., \n",
       "         [-102.69339752, -102.69339752, -102.69339752],\n",
       "         [-102.69339752, -102.69339752, -102.69339752],\n",
       "         [-102.69339752, -102.69339752, -102.69339752]],\n",
       "\n",
       "        [[-102.69339752, -102.69339752, -102.69339752],\n",
       "         [-102.69339752, -102.69339752, -102.69339752],\n",
       "         [-102.69339752, -102.69339752, -102.69339752],\n",
       "         ..., \n",
       "         [-102.69339752, -102.69339752, -102.69339752],\n",
       "         [-102.69339752, -102.69339752, -102.69339752],\n",
       "         [-102.69339752, -102.69339752, -102.69339752]],\n",
       "\n",
       "        ..., \n",
       "        [[-102.69339752, -102.69339752, -102.69339752],\n",
       "         [-102.69339752, -102.69339752, -102.69339752],\n",
       "         [-102.69339752, -102.69339752, -102.69339752],\n",
       "         ..., \n",
       "         [-102.69339752, -102.69339752, -102.69339752],\n",
       "         [-102.69339752, -102.69339752, -102.69339752],\n",
       "         [-102.69339752, -102.69339752, -102.69339752]],\n",
       "\n",
       "        [[-102.69339752, -102.69339752, -102.69339752],\n",
       "         [-102.69339752, -102.69339752, -102.69339752],\n",
       "         [-102.69339752, -102.69339752, -102.69339752],\n",
       "         ..., \n",
       "         [-102.69339752, -102.69339752, -102.69339752],\n",
       "         [-102.69339752, -102.69339752, -102.69339752],\n",
       "         [-102.69339752, -102.69339752, -102.69339752]],\n",
       "\n",
       "        [[-102.69339752, -102.69339752, -102.69339752],\n",
       "         [-102.69339752, -102.69339752, -102.69339752],\n",
       "         [-102.69339752, -102.69339752, -102.69339752],\n",
       "         ..., \n",
       "         [-102.69339752, -102.69339752, -102.69339752],\n",
       "         [-102.69339752, -102.69339752, -102.69339752],\n",
       "         [-102.69339752, -102.69339752, -102.69339752]]],\n",
       "\n",
       "\n",
       "       [[[ -61.58616257,  -61.58616257,  -61.58616257],\n",
       "         [ -61.58616257,  -61.58616257,  -61.58616257],\n",
       "         [ -61.58616257,  -61.58616257,  -61.58616257],\n",
       "         ..., \n",
       "         [ -61.58616257,  -61.58616257,  -61.58616257],\n",
       "         [ -61.58616257,  -61.58616257,  -61.58616257],\n",
       "         [ -61.58616257,  -61.58616257,  -61.58616257]],\n",
       "\n",
       "        [[ -61.58616257,  -61.58616257,  -61.58616257],\n",
       "         [ -61.58616257,  -61.58616257,  -61.58616257],\n",
       "         [ -61.58616257,  -61.58616257,  -61.58616257],\n",
       "         ..., \n",
       "         [ -61.58616257,  -61.58616257,  -61.58616257],\n",
       "         [ -61.58616257,  -61.58616257,  -61.58616257],\n",
       "         [ -61.58616257,  -61.58616257,  -61.58616257]],\n",
       "\n",
       "        [[ -61.58616257,  -61.58616257,  -61.58616257],\n",
       "         [ -61.58616257,  -61.58616257,  -61.58616257],\n",
       "         [ -61.58616257,  -61.58616257,  -61.58616257],\n",
       "         ..., \n",
       "         [ -61.58616257,  -61.58616257,  -61.58616257],\n",
       "         [ -61.58616257,  -61.58616257,  -61.58616257],\n",
       "         [ -61.58616257,  -61.58616257,  -61.58616257]],\n",
       "\n",
       "        ..., \n",
       "        [[ -61.58616257,  -61.58616257,  -61.58616257],\n",
       "         [ -61.58616257,  -61.58616257,  -61.58616257],\n",
       "         [ -61.58616257,  -61.58616257,  -61.58616257],\n",
       "         ..., \n",
       "         [ -61.58616257,  -61.58616257,  -61.58616257],\n",
       "         [ -61.58616257,  -61.58616257,  -61.58616257],\n",
       "         [ -61.58616257,  -61.58616257,  -61.58616257]],\n",
       "\n",
       "        [[ -61.58616257,  -61.58616257,  -61.58616257],\n",
       "         [ -61.58616257,  -61.58616257,  -61.58616257],\n",
       "         [ -61.58616257,  -61.58616257,  -61.58616257],\n",
       "         ..., \n",
       "         [ -61.58616257,  -61.58616257,  -61.58616257],\n",
       "         [ -61.58616257,  -61.58616257,  -61.58616257],\n",
       "         [ -61.58616257,  -61.58616257,  -61.58616257]],\n",
       "\n",
       "        [[ -61.58616257,  -61.58616257,  -61.58616257],\n",
       "         [ -61.58616257,  -61.58616257,  -61.58616257],\n",
       "         [ -61.58616257,  -61.58616257,  -61.58616257],\n",
       "         ..., \n",
       "         [ -61.58616257,  -61.58616257,  -61.58616257],\n",
       "         [ -61.58616257,  -61.58616257,  -61.58616257],\n",
       "         [ -61.58616257,  -61.58616257,  -61.58616257]]],\n",
       "\n",
       "\n",
       "       [[[ -44.88663101,  -44.88663101,  -44.88663101],\n",
       "         [ -44.88663101,  -44.88663101,  -44.88663101],\n",
       "         [ -44.88663101,  -44.88663101,  -44.88663101],\n",
       "         ..., \n",
       "         [ -44.88663101,  -44.88663101,  -44.88663101],\n",
       "         [ -44.88663101,  -44.88663101,  -44.88663101],\n",
       "         [ -44.88663101,  -44.88663101,  -44.88663101]],\n",
       "\n",
       "        [[ -44.88663101,  -44.88663101,  -44.88663101],\n",
       "         [ -44.88663101,  -44.88663101,  -44.88663101],\n",
       "         [ -44.88663101,  -44.88663101,  -44.88663101],\n",
       "         ..., \n",
       "         [ -44.88663101,  -44.88663101,  -44.88663101],\n",
       "         [ -44.88663101,  -44.88663101,  -44.88663101],\n",
       "         [ -44.88663101,  -44.88663101,  -44.88663101]],\n",
       "\n",
       "        [[ -44.88663101,  -44.88663101,  -44.88663101],\n",
       "         [ -44.88663101,  -44.88663101,  -44.88663101],\n",
       "         [ -44.88663101,  -44.88663101,  -44.88663101],\n",
       "         ..., \n",
       "         [ -44.88663101,  -44.88663101,  -44.88663101],\n",
       "         [ -44.88663101,  -44.88663101,  -44.88663101],\n",
       "         [ -44.88663101,  -44.88663101,  -44.88663101]],\n",
       "\n",
       "        ..., \n",
       "        [[ -44.88663101,  -44.88663101,  -44.88663101],\n",
       "         [ -44.88663101,  -44.88663101,  -44.88663101],\n",
       "         [ -44.88663101,  -44.88663101,  -44.88663101],\n",
       "         ..., \n",
       "         [ -44.88663101,  -44.88663101,  -44.88663101],\n",
       "         [ -44.88663101,  -44.88663101,  -44.88663101],\n",
       "         [ -44.88663101,  -44.88663101,  -44.88663101]],\n",
       "\n",
       "        [[ -44.88663101,  -44.88663101,  -44.88663101],\n",
       "         [ -44.88663101,  -44.88663101,  -44.88663101],\n",
       "         [ -44.88663101,  -44.88663101,  -44.88663101],\n",
       "         ..., \n",
       "         [ -44.88663101,  -44.88663101,  -44.88663101],\n",
       "         [ -44.88663101,  -44.88663101,  -44.88663101],\n",
       "         [ -44.88663101,  -44.88663101,  -44.88663101]],\n",
       "\n",
       "        [[ -44.88663101,  -44.88663101,  -44.88663101],\n",
       "         [ -44.88663101,  -44.88663101,  -44.88663101],\n",
       "         [ -44.88663101,  -44.88663101,  -44.88663101],\n",
       "         ..., \n",
       "         [ -44.88663101,  -44.88663101,  -44.88663101],\n",
       "         [ -44.88663101,  -44.88663101,  -44.88663101],\n",
       "         [ -44.88663101,  -44.88663101,  -44.88663101]]],\n",
       "\n",
       "\n",
       "       ..., \n",
       "       [[[ -43.8053627 ,  -33.8053627 ,  -15.8053627 ],\n",
       "         [ -40.8053627 ,  -30.8053627 ,  -13.8053627 ],\n",
       "         [ -40.8053627 ,  -29.8053627 ,  -12.8053627 ],\n",
       "         ..., \n",
       "         [  49.1946373 ,   53.1946373 ,   69.19464111],\n",
       "         [  47.1946373 ,   51.1946373 ,   69.19464111],\n",
       "         [  49.1946373 ,   53.1946373 ,   69.19464111]],\n",
       "\n",
       "        [[ -40.8053627 ,  -30.8053627 ,  -14.8053627 ],\n",
       "         [ -40.8053627 ,  -30.8053627 ,  -13.8053627 ],\n",
       "         [ -44.8053627 ,  -31.8053627 ,  -15.8053627 ],\n",
       "         ..., \n",
       "         [  41.1946373 ,   45.1946373 ,   69.19464111],\n",
       "         [  40.1946373 ,   44.1946373 ,   69.19464111],\n",
       "         [  39.1946373 ,   43.1946373 ,   69.19464111]],\n",
       "\n",
       "        [[ -39.8053627 ,  -26.8053627 ,  -10.8053627 ],\n",
       "         [ -44.8053627 ,  -31.8053627 ,  -15.8053627 ],\n",
       "         [ -44.8053627 ,  -31.8053627 ,  -15.8053627 ],\n",
       "         ..., \n",
       "         [  32.1946373 ,   36.1946373 ,   64.19464111],\n",
       "         [  36.1946373 ,   40.1946373 ,   69.19464111],\n",
       "         [  35.1946373 ,   38.1946373 ,   69.19464111]],\n",
       "\n",
       "        ..., \n",
       "        [[ -49.8053627 ,  -47.8053627 ,  -39.8053627 ],\n",
       "         [ -47.8053627 ,  -45.8053627 ,  -37.8053627 ],\n",
       "         [ -46.8053627 ,  -44.8053627 ,  -36.8053627 ],\n",
       "         ..., \n",
       "         [ -43.8053627 ,  -47.8053627 ,  -42.8053627 ],\n",
       "         [ -41.8053627 ,  -44.8053627 ,  -39.8053627 ],\n",
       "         [ -42.8053627 ,  -45.8053627 ,  -40.8053627 ]],\n",
       "\n",
       "        [[ -51.8053627 ,  -49.8053627 ,  -41.8053627 ],\n",
       "         [ -49.8053627 ,  -47.8053627 ,  -39.8053627 ],\n",
       "         [ -49.8053627 ,  -47.8053627 ,  -39.8053627 ],\n",
       "         ..., \n",
       "         [ -42.8053627 ,  -46.8053627 ,  -41.8053627 ],\n",
       "         [ -41.8053627 ,  -45.8053627 ,  -40.8053627 ],\n",
       "         [ -43.8053627 ,  -46.8053627 ,  -42.8053627 ]],\n",
       "\n",
       "        [[ -50.8053627 ,  -49.8053627 ,  -39.8053627 ],\n",
       "         [ -48.8053627 ,  -47.8053627 ,  -37.8053627 ],\n",
       "         [ -45.8053627 ,  -44.8053627 ,  -34.8053627 ],\n",
       "         ..., \n",
       "         [ -42.8053627 ,  -46.8053627 ,  -41.8053627 ],\n",
       "         [ -41.8053627 ,  -45.8053627 ,  -40.8053627 ],\n",
       "         [ -44.8053627 ,  -48.8053627 ,  -43.8053627 ]]],\n",
       "\n",
       "\n",
       "       [[[ -80.38300323,  -80.38300323,  -80.38300323],\n",
       "         [ -80.38300323,  -80.38300323,  -80.38300323],\n",
       "         [ -80.38300323,  -80.38300323,  -80.38300323],\n",
       "         ..., \n",
       "         [ -80.38300323,  -80.38300323,  -80.38300323],\n",
       "         [ -80.38300323,  -80.38300323,  -80.38300323],\n",
       "         [ -80.38300323,  -80.38300323,  -80.38300323]],\n",
       "\n",
       "        [[ -80.38300323,  -80.38300323,  -80.38300323],\n",
       "         [ -80.38300323,  -80.38300323,  -80.38300323],\n",
       "         [ -80.38300323,  -80.38300323,  -80.38300323],\n",
       "         ..., \n",
       "         [ -80.38300323,  -80.38300323,  -80.38300323],\n",
       "         [ -80.38300323,  -80.38300323,  -80.38300323],\n",
       "         [ -80.38300323,  -80.38300323,  -80.38300323]],\n",
       "\n",
       "        [[ -80.38300323,  -80.38300323,  -80.38300323],\n",
       "         [ -80.38300323,  -80.38300323,  -80.38300323],\n",
       "         [ -80.38300323,  -80.38300323,  -80.38300323],\n",
       "         ..., \n",
       "         [ -80.38300323,  -80.38300323,  -80.38300323],\n",
       "         [ -80.38300323,  -80.38300323,  -80.38300323],\n",
       "         [ -80.38300323,  -80.38300323,  -80.38300323]],\n",
       "\n",
       "        ..., \n",
       "        [[ -80.38300323,  -80.38300323,  -80.38300323],\n",
       "         [ -80.38300323,  -80.38300323,  -80.38300323],\n",
       "         [ -80.38300323,  -80.38300323,  -80.38300323],\n",
       "         ..., \n",
       "         [ -80.38300323,  -80.38300323,  -80.38300323],\n",
       "         [ -80.38300323,  -80.38300323,  -80.38300323],\n",
       "         [ -80.38300323,  -80.38300323,  -80.38300323]],\n",
       "\n",
       "        [[ -80.38300323,  -80.38300323,  -80.38300323],\n",
       "         [ -80.38300323,  -80.38300323,  -80.38300323],\n",
       "         [ -80.38300323,  -80.38300323,  -80.38300323],\n",
       "         ..., \n",
       "         [ -80.38300323,  -80.38300323,  -80.38300323],\n",
       "         [ -80.38300323,  -80.38300323,  -80.38300323],\n",
       "         [ -80.38300323,  -80.38300323,  -80.38300323]],\n",
       "\n",
       "        [[ -80.38300323,  -80.38300323,  -80.38300323],\n",
       "         [ -80.38300323,  -80.38300323,  -80.38300323],\n",
       "         [ -80.38300323,  -80.38300323,  -80.38300323],\n",
       "         ..., \n",
       "         [ -80.38300323,  -80.38300323,  -80.38300323],\n",
       "         [ -80.38300323,  -80.38300323,  -80.38300323],\n",
       "         [ -80.38300323,  -80.38300323,  -80.38300323]]],\n",
       "\n",
       "\n",
       "       [[[ -84.48239899,  -84.48239899,  -84.48239899],\n",
       "         [ -84.48239899,  -84.48239899,  -84.48239899],\n",
       "         [ -84.48239899,  -84.48239899,  -84.48239899],\n",
       "         ..., \n",
       "         [ -84.48239899,  -84.48239899,  -84.48239899],\n",
       "         [ -84.48239899,  -84.48239899,  -84.48239899],\n",
       "         [ -84.48239899,  -84.48239899,  -84.48239899]],\n",
       "\n",
       "        [[ -84.48239899,  -84.48239899,  -84.48239899],\n",
       "         [ -84.48239899,  -84.48239899,  -84.48239899],\n",
       "         [ -84.48239899,  -84.48239899,  -84.48239899],\n",
       "         ..., \n",
       "         [ -84.48239899,  -84.48239899,  -84.48239899],\n",
       "         [ -84.48239899,  -84.48239899,  -84.48239899],\n",
       "         [ -84.48239899,  -84.48239899,  -84.48239899]],\n",
       "\n",
       "        [[ -84.48239899,  -84.48239899,  -84.48239899],\n",
       "         [ -84.48239899,  -84.48239899,  -84.48239899],\n",
       "         [ -84.48239899,  -84.48239899,  -84.48239899],\n",
       "         ..., \n",
       "         [ -84.48239899,  -84.48239899,  -84.48239899],\n",
       "         [ -84.48239899,  -84.48239899,  -84.48239899],\n",
       "         [ -84.48239899,  -84.48239899,  -84.48239899]],\n",
       "\n",
       "        ..., \n",
       "        [[ -84.48239899,  -84.48239899,  -84.48239899],\n",
       "         [ -84.48239899,  -84.48239899,  -84.48239899],\n",
       "         [ -84.48239899,  -84.48239899,  -84.48239899],\n",
       "         ..., \n",
       "         [ -84.48239899,  -84.48239899,  -84.48239899],\n",
       "         [ -84.48239899,  -84.48239899,  -84.48239899],\n",
       "         [ -84.48239899,  -84.48239899,  -84.48239899]],\n",
       "\n",
       "        [[ -84.48239899,  -84.48239899,  -84.48239899],\n",
       "         [ -84.48239899,  -84.48239899,  -84.48239899],\n",
       "         [ -84.48239899,  -84.48239899,  -84.48239899],\n",
       "         ..., \n",
       "         [ -84.48239899,  -84.48239899,  -84.48239899],\n",
       "         [ -84.48239899,  -84.48239899,  -84.48239899],\n",
       "         [ -84.48239899,  -84.48239899,  -84.48239899]],\n",
       "\n",
       "        [[ -84.48239899,  -84.48239899,  -84.48239899],\n",
       "         [ -84.48239899,  -84.48239899,  -84.48239899],\n",
       "         [ -84.48239899,  -84.48239899,  -84.48239899],\n",
       "         ..., \n",
       "         [ -84.48239899,  -84.48239899,  -84.48239899],\n",
       "         [ -84.48239899,  -84.48239899,  -84.48239899],\n",
       "         [ -84.48239899,  -84.48239899,  -84.48239899]]]], dtype=float32)"
      ]
     },
     "execution_count": 11,
     "metadata": {},
     "output_type": "execute_result"
    }
   ],
   "source": [
    "sample = _gen.next()\n",
    "sample[0]"
   ]
  },
  {
   "cell_type": "code",
   "execution_count": 12,
   "metadata": {},
   "outputs": [
    {
     "data": {
      "text/plain": [
       "2"
      ]
     },
     "execution_count": 12,
     "metadata": {},
     "output_type": "execute_result"
    }
   ],
   "source": [
    "## 256x256x3 --?!?-> 2x32x32\n",
    "len(sample)"
   ]
  },
  {
   "cell_type": "code",
   "execution_count": 13,
   "metadata": {},
   "outputs": [
    {
     "data": {
      "text/plain": [
       "(32, 256, 256, 3)"
      ]
     },
     "execution_count": 13,
     "metadata": {},
     "output_type": "execute_result"
    }
   ],
   "source": [
    "sample[0].shape"
   ]
  },
  {
   "cell_type": "code",
   "execution_count": null,
   "metadata": {},
   "outputs": [],
   "source": []
  }
 ],
 "metadata": {
  "kernelspec": {
   "display_name": "Python 3",
   "language": "python",
   "name": "python3"
  },
  "language_info": {
   "codemirror_mode": {
    "name": "ipython",
    "version": 3
   },
   "file_extension": ".py",
   "mimetype": "text/x-python",
   "name": "python",
   "nbconvert_exporter": "python",
   "pygments_lexer": "ipython3",
   "version": "3.5.1"
  }
 },
 "nbformat": 4,
 "nbformat_minor": 2
}
