{
 "cells": [
  {
   "cell_type": "code",
   "execution_count": 1,
   "metadata": {},
   "outputs": [
    {
     "name": "stderr",
     "output_type": "stream",
     "text": [
      "Using TensorFlow backend.\n"
     ]
    }
   ],
   "source": [
    "import sys\n",
    "import keras\n",
    "from keras import optimizers\n",
    "\n",
    "from flask.views import MethodView\n",
    "import json\n",
    "\n",
    "from flask import Flask, request, jsonify\n",
    "from gevent.pywsgi import WSGIServer\n",
    "import numpy as np"
   ]
  },
  {
   "cell_type": "code",
   "execution_count": 2,
   "metadata": {},
   "outputs": [],
   "source": [
    "class Predictor(object):\n",
    "    \"\"\"Provides predict() while abstracting away model and preprocessing\"\"\"\n",
    "    #TODO add preprocessing to _normalize_input and _denormalize_prediction\n",
    "        \n",
    "    def __init__(self, model_path, **kwargs):\n",
    "        \"\"\"Initialize Predictor class.\"\"\"\n",
    "        self.model = keras.models.load_model(model_path)\n",
    "        \n",
    "        sgd = optimizers.SGD(lr=0.001, momentum=0.95, decay=1e-6, nesterov=False)\n",
    "        self.model.compile(optimizer = sgd, loss = \"categorical_crossentropy\", metrics = [\"accuracy\"])\n",
    "\n",
    "    def _normalize_input(self, X_input):\n",
    "        \"\"\"No normalization performed\"\"\"\n",
    "        return X_input\n",
    "\n",
    "    def _denormalize_prediction(self, x_pred):\n",
    "        \"\"\"No De-normalization performed\"\"\"\n",
    "        return x_pred\n",
    "\n",
    "    def predict(self, X_input):\n",
    "        \"\"\"Make predictions, given some input data.\n",
    "\n",
    "        This normalizes the predictions based on the real normalization\n",
    "        parameters and then generates a prediction\n",
    "\n",
    "        Args:\n",
    "            X_input:    Input vector to for prediction\n",
    "        \"\"\"\n",
    "        x_normed = self._normalize_input(X_input=X_input)\n",
    "        x_pred = self.model.predict(x_normed)\n",
    "        prediction = self._denormalize_prediction(x_pred)\n",
    "        return prediction"
   ]
  },
  {
   "cell_type": "code",
   "execution_count": 3,
   "metadata": {},
   "outputs": [],
   "source": [
    "class ModelLoader(MethodView):\n",
    "    \"\"\"Flask-friendly class. Initialize model params and wait for a POST request\"\"\"\n",
    "\n",
    "    def __init__(self):\n",
    "        model_path = '../models/age_gender_model_0_1.h5'\n",
    "        self.predictor = self.initialize_models(model_path=model_path)\n",
    "\n",
    "    def post(self):\n",
    "        \"\"\"Accept a post request to serve predictions.\"\"\"\n",
    "        content = request.get_json()\n",
    "        X_input = content['X_input']\n",
    "        dimensions = content['dimensions']\n",
    "        X_input = np.reshape(np.array(json.loads(X_input)),dimensions)\n",
    "        if not isinstance(X_input, np.ndarray):\n",
    "            X_in = np.reshape(np.array(X_input), dimensions)\n",
    "        pred_val = self.predictor.predict(X_input=X_input)\n",
    "        pred_val = pred_val.tolist()\n",
    "        return jsonify({'pred_val': pred_val})\n",
    "    \n",
    "    def initialize_models(self,model_path):\n",
    "        \"\"\"Initialize models and use this in Flask server.\"\"\"\n",
    "        predictor = Predictor(model_path)\n",
    "        return predictor"
   ]
  },
  {
   "cell_type": "code",
   "execution_count": null,
   "metadata": {},
   "outputs": [],
   "source": [
    "def run(host='0.0.0.0', port=7171):\n",
    "    app = Flask(__name__)\n",
    "    app.add_url_rule('/predict', view_func=ModelLoader.as_view('predict'))\n",
    "    print('running server http://{0}'.format(host + ':' + str(port)))\n",
    "    WSGIServer((host, port), app).serve_forever()"
   ]
  },
  {
   "cell_type": "code",
   "execution_count": null,
   "metadata": {
    "scrolled": false
   },
   "outputs": [
    {
     "name": "stdout",
     "output_type": "stream",
     "text": [
      "running server http://0.0.0.0:7171\n"
     ]
    },
    {
     "name": "stderr",
     "output_type": "stream",
     "text": [
      "[2017-12-18 23:55:06,740] ERROR in app: Exception on /predict [POST]\n",
      "Traceback (most recent call last):\n",
      "  File \"/Users/michael/Workspace/DeepLearning/python/venv/lib/python2.7/site-packages/flask/app.py\", line 1982, in wsgi_app\n",
      "    response = self.full_dispatch_request()\n",
      "  File \"/Users/michael/Workspace/DeepLearning/python/venv/lib/python2.7/site-packages/flask/app.py\", line 1614, in full_dispatch_request\n",
      "    rv = self.handle_user_exception(e)\n",
      "  File \"/Users/michael/Workspace/DeepLearning/python/venv/lib/python2.7/site-packages/flask/app.py\", line 1517, in handle_user_exception\n",
      "    reraise(exc_type, exc_value, tb)\n",
      "  File \"/Users/michael/Workspace/DeepLearning/python/venv/lib/python2.7/site-packages/flask/app.py\", line 1612, in full_dispatch_request\n",
      "    rv = self.dispatch_request()\n",
      "  File \"/Users/michael/Workspace/DeepLearning/python/venv/lib/python2.7/site-packages/flask/app.py\", line 1598, in dispatch_request\n",
      "    return self.view_functions[rule.endpoint](**req.view_args)\n",
      "  File \"/Users/michael/Workspace/DeepLearning/python/venv/lib/python2.7/site-packages/flask/views.py\", line 84, in view\n",
      "    return self.dispatch_request(*args, **kwargs)\n",
      "  File \"/Users/michael/Workspace/DeepLearning/python/venv/lib/python2.7/site-packages/flask/views.py\", line 149, in dispatch_request\n",
      "    return meth(*args, **kwargs)\n",
      "  File \"<ipython-input-3-8f755bbdbadb>\", line 16, in post\n",
      "    pred_val = self.predictor.predict(X_input=X_in)\n",
      "UnboundLocalError: local variable 'X_in' referenced before assignment\n",
      "127.0.0.1 - - [2017-12-18 23:55:06] \"POST /predict HTTP/1.1\" 500 412 5.054142\n"
     ]
    }
   ],
   "source": [
    "run()"
   ]
  },
  {
   "cell_type": "code",
   "execution_count": null,
   "metadata": {},
   "outputs": [],
   "source": []
  }
 ],
 "metadata": {
  "kernelspec": {
   "display_name": "Python 3",
   "language": "python",
   "name": "python3"
  },
  "language_info": {
   "codemirror_mode": {
    "name": "ipython",
    "version": 2
   },
   "file_extension": ".py",
   "mimetype": "text/x-python",
   "name": "python",
   "nbconvert_exporter": "python",
   "pygments_lexer": "ipython2",
   "version": "2.7.14"
  }
 },
 "nbformat": 4,
 "nbformat_minor": 2
}
